{
  "nbformat": 4,
  "nbformat_minor": 0,
  "metadata": {
    "colab": {
      "name": "Data_Type_in_Python.ipynb",
      "provenance": [],
      "collapsed_sections": [],
      "include_colab_link": true
    },
    "kernelspec": {
      "display_name": "Python 3",
      "name": "python3"
    }
  },
  "cells": [
    {
      "cell_type": "markdown",
      "metadata": {
        "id": "view-in-github",
        "colab_type": "text"
      },
      "source": [
        "<a href=\"https://colab.research.google.com/github/JagdishChavan081/python_code/blob/master/Data_Type_in_Python.ipynb\" target=\"_parent\"><img src=\"https://colab.research.google.com/assets/colab-badge.svg\" alt=\"Open In Colab\"/></a>"
      ]
    },
    {
      "cell_type": "markdown",
      "metadata": {
        "id": "g2ehoz8R32ba"
      },
      "source": [
        "![Blank Diagram.png](data:image/png;base64,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)"
      ]
    },
    {
      "cell_type": "markdown",
      "metadata": {
        "id": "H9FkUUDD0MPA"
      },
      "source": [
        "\n",
        "\n",
        "1.   Data types are the classification or categorization of data items.\n",
        "\n",
        "2.   Data types represent a kind of value which determines what operations can be performed on that data. Numeric, non-numeric and Boolean (true/false) data are the most used data types.\n",
        "\n",
        "\n",
        "3.   Variables can store data of different types.\n",
        "\n",
        "2.   everything is an object in Python programming, data types are actually classes and variables are instance (object) of these classes.\n",
        "\n",
        "\n",
        "\n",
        "5.   Based on the data type of a variable, the interpreter allocates memory and decides what can be stored in the reserved memory. Therefore, by assigning different data types to variables, you can store integers, decimals or characters in these variables.\n",
        "\n",
        "2.   Python data types are divided in two categories, mutable data types and immutable data types.\n",
        "\n",
        "1.   The best thing about Python is that the data type doesn’t need to be defined when declaring a variable. Data types exist, but the variables are not bound to any of them. Languages that act in this way are called​ ​dynamically typed languages.\n",
        "\n",
        "\n",
        "\n",
        "\n",
        "\n",
        "\n",
        "\n",
        "\n"
      ]
    },
    {
      "cell_type": "markdown",
      "source": [
        "## None Type\n",
        "\n",
        "* None datatype represents an object that does not contain any value.\n",
        "* In language like java its called null in Python its called None.\n",
        "* In python program, maximum of only one None object is provided "
      ],
      "metadata": {
        "id": "iA65HWxbZE3N"
      }
    },
    {
      "cell_type": "code",
      "source": [
        "a = None\n",
        "print(a)\n",
        "print(id(a))\n",
        "print(type(a))\n"
      ],
      "metadata": {
        "colab": {
          "base_uri": "https://localhost:8080/"
        },
        "id": "DaqQdKJthx_Q",
        "outputId": "fe7d941f-ddf9-4a50-b457-f5c6919b38f7"
      },
      "execution_count": null,
      "outputs": [
        {
          "output_type": "stream",
          "name": "stdout",
          "text": [
            "None\n",
            "11125344\n",
            "<class 'NoneType'>\n"
          ]
        }
      ]
    },
    {
      "cell_type": "code",
      "source": [
        "phone_num = 8830309897\n",
        "print(phone_num)\n",
        "\n"
      ],
      "metadata": {
        "colab": {
          "base_uri": "https://localhost:8080/"
        },
        "id": "fKDTOiGGieBW",
        "outputId": "1dbd3f50-41c0-49d7-8469-1003c4980013"
      },
      "execution_count": null,
      "outputs": [
        {
          "output_type": "stream",
          "name": "stdout",
          "text": [
            "8830309897\n"
          ]
        }
      ]
    },
    {
      "cell_type": "markdown",
      "metadata": {
        "id": "Wbnpb9_v4zbH"
      },
      "source": [
        "## Numeric"
      ]
    },
    {
      "cell_type": "markdown",
      "metadata": {
        "id": "GCK7Du_q5nEQ"
      },
      "source": [
        "Python numeric data type is used to hold numeric values like;\n",
        "\n",
        "\n",
        "1.   int – holds signed integers of non-limited length.\n",
        ".\n",
        "\n",
        "2.   float- holds floating precision numbers and it’s accurate upto 15 decimal places.\n",
        "3.   complex- holds complex numbers.\n",
        "\n",
        "It is used to carry out the normal mathematical operations.\n",
        "\n",
        "\n",
        "\n"
      ]
    },
    {
      "cell_type": "markdown",
      "metadata": {
        "id": "50H7N-1O9Inn"
      },
      "source": [
        "# Integer Data Type int()\n",
        "\n",
        "\n",
        "1.   Decimal Form ->(Base-10) (0-9) Default\n",
        "2.   Binary Form -> (Base-2) (0,1) 0b1111/0B1111\n",
        "\n",
        "3. Octal Form ->(Base-8)(0-7) 0O7777/0o7777\n",
        "2.   Hexa Decimal Form ->(Base-16)(0-9)(a-f) 0x    /0X\n",
        "\n",
        "\n"
      ]
    },
    {
      "cell_type": "code",
      "source": [
        "a=100\n",
        "print(type(a))"
      ],
      "metadata": {
        "colab": {
          "base_uri": "https://localhost:8080/"
        },
        "id": "8_C7aI-RwVwF",
        "outputId": "1aa0c15a-36d3-4cdf-a188-9e22a298c1ec"
      },
      "execution_count": null,
      "outputs": [
        {
          "output_type": "stream",
          "name": "stdout",
          "text": [
            "<class 'int'>\n"
          ]
        }
      ]
    },
    {
      "cell_type": "code",
      "source": [
        "num ='314'\n",
        "print(type(num))"
      ],
      "metadata": {
        "colab": {
          "base_uri": "https://localhost:8080/"
        },
        "id": "N24RpJJT7ydR",
        "outputId": "dcb31290-e519-4730-a37d-3695137e6edc"
      },
      "execution_count": null,
      "outputs": [
        {
          "output_type": "stream",
          "name": "stdout",
          "text": [
            "<class 'str'>\n"
          ]
        }
      ]
    },
    {
      "cell_type": "code",
      "metadata": {
        "colab": {
          "base_uri": "https://localhost:8080/",
          "height": 35
        },
        "id": "6gnnTueu4lhk",
        "outputId": "2ebed142-12ff-4b4b-e5a1-a40e615a5958"
      },
      "source": [
        "#creating a variable with integer value \n",
        "a=100\n",
        "print(\"The type of variable having value\", a, \" is \", type(a))"
      ],
      "execution_count": null,
      "outputs": [
        {
          "name": "stdout",
          "output_type": "stream",
          "text": [
            "The type of variable having value 100  is  <class 'int'>\n"
          ]
        }
      ]
    },
    {
      "cell_type": "markdown",
      "metadata": {
        "id": "wSLRxw4xAUGb"
      },
      "source": [
        "##Integer to Binary & Binary to Integer"
      ]
    },
    {
      "cell_type": "code",
      "source": [
        "a= 25\n",
        "print(bin(a))"
      ],
      "metadata": {
        "colab": {
          "base_uri": "https://localhost:8080/"
        },
        "id": "tKsm3QhCw36n",
        "outputId": "64fb2f30-ba99-4ad1-d435-92eb0bb78141"
      },
      "execution_count": null,
      "outputs": [
        {
          "output_type": "stream",
          "name": "stdout",
          "text": [
            "0b11001\n"
          ]
        }
      ]
    },
    {
      "cell_type": "code",
      "source": [
        "bin(20)"
      ],
      "metadata": {
        "id": "zJdfMjiknNIz",
        "outputId": "2992251f-b258-406d-bbd4-c8d894867929",
        "colab": {
          "base_uri": "https://localhost:8080/",
          "height": 35
        }
      },
      "execution_count": null,
      "outputs": [
        {
          "output_type": "execute_result",
          "data": {
            "application/vnd.google.colaboratory.intrinsic+json": {
              "type": "string"
            },
            "text/plain": [
              "'0b10100'"
            ]
          },
          "metadata": {},
          "execution_count": 4
        }
      ]
    },
    {
      "cell_type": "code",
      "metadata": {
        "colab": {
          "base_uri": "https://localhost:8080/",
          "height": 35
        },
        "id": "h1g_BrpR-7rb",
        "outputId": "80ca6fcd-b508-4070-ed83-643f106f245e"
      },
      "source": [
        "#Integer to Binary Conversion bin()\n",
        "a=25\n",
        "print(\"The type of variable having value\", bin(a), \" is \", type(a))\n"
      ],
      "execution_count": null,
      "outputs": [
        {
          "name": "stdout",
          "output_type": "stream",
          "text": [
            "The type of variable having value 0b11001  is  <class 'int'>\n"
          ]
        }
      ]
    },
    {
      "cell_type": "code",
      "metadata": {
        "colab": {
          "base_uri": "https://localhost:8080/"
        },
        "id": "lfz6Rqp7-ZAT",
        "outputId": "3fcb1365-ea05-41fd-e168-075acf0b2cd0"
      },
      "source": [
        "a = 120\n",
        "print(type(bin(a)))"
      ],
      "execution_count": null,
      "outputs": [
        {
          "output_type": "stream",
          "name": "stdout",
          "text": [
            "<class 'str'>\n"
          ]
        }
      ]
    },
    {
      "cell_type": "code",
      "metadata": {
        "colab": {
          "base_uri": "https://localhost:8080/"
        },
        "id": "Wbb0hJDP-0r7",
        "outputId": "cee142e8-0e0f-4d1a-b655-050b6653538f"
      },
      "source": [
        "age = 21\n",
        "percentage = 96.56\n",
        "print(type(age))\n",
        "print(type(percentage))"
      ],
      "execution_count": null,
      "outputs": [
        {
          "name": "stdout",
          "output_type": "stream",
          "text": [
            "<class 'int'>\n",
            "<class 'float'>\n"
          ]
        }
      ]
    },
    {
      "cell_type": "code",
      "metadata": {
        "colab": {
          "base_uri": "https://localhost:8080/"
        },
        "id": "j0eg082oBImF",
        "outputId": "dadccc2e-0681-4848-fd65-e1b2e594621b"
      },
      "source": [
        "\n",
        "b= 0b1111\n",
        "print(int(b))"
      ],
      "execution_count": null,
      "outputs": [
        {
          "name": "stdout",
          "output_type": "stream",
          "text": [
            "15\n"
          ]
        }
      ]
    },
    {
      "cell_type": "code",
      "metadata": {
        "colab": {
          "base_uri": "https://localhost:8080/"
        },
        "id": "JN6u23Zw_aYV",
        "outputId": "e1b28f7e-31b2-4316-d2a9-04b1babcd240"
      },
      "source": [
        "#Binary to Integer Conversion prefix 0b (zero + lowercase letter 'b')\n",
        "a=0b1111                          \n",
        "print(\"The type of variable having value\", int(a), \" is \", type(a))\n"
      ],
      "execution_count": null,
      "outputs": [
        {
          "name": "stdout",
          "output_type": "stream",
          "text": [
            "The type of variable having value 15  is  <class 'int'>\n"
          ]
        }
      ]
    },
    {
      "cell_type": "code",
      "metadata": {
        "colab": {
          "base_uri": "https://localhost:8080/"
        },
        "id": "UKsaegjn_4Ax",
        "outputId": "466766c6-37cb-4bcc-c1fa-2da8c03b89a4"
      },
      "source": [
        "# exp2 Binary to Integer Conversion 0B (zero + uppercase letter 'B')\n",
        "a = -0B1111\n",
        "print(\"The type of variable having value\", int(a), \" is \", type(a))\n"
      ],
      "execution_count": null,
      "outputs": [
        {
          "output_type": "stream",
          "name": "stdout",
          "text": [
            "The type of variable having value -15  is  <class 'int'>\n"
          ]
        }
      ]
    },
    {
      "cell_type": "markdown",
      "metadata": {
        "id": "-av-oGeNAgQU"
      },
      "source": [
        "##Integer to Octal & Octal To Integer\n"
      ]
    },
    {
      "cell_type": "code",
      "metadata": {
        "colab": {
          "base_uri": "https://localhost:8080/",
          "height": 35
        },
        "id": "-ZCNsFOgAtdP",
        "outputId": "0f04a84e-6b3b-4398-fa55-05bcdc8ba37b"
      },
      "source": [
        "#Integer to Octal Conversion oct()\n",
        "a = 23\n",
        "print(\"The type of variable having value\", oct(a), \" is \", type(a))\n"
      ],
      "execution_count": null,
      "outputs": [
        {
          "name": "stdout",
          "output_type": "stream",
          "text": [
            "The type of variable having value 0o27  is  <class 'int'>\n"
          ]
        }
      ]
    },
    {
      "cell_type": "code",
      "metadata": {
        "colab": {
          "base_uri": "https://localhost:8080/",
          "height": 35
        },
        "id": "46XxpanlBAvp",
        "outputId": "9d8b9147-0c50-4d8f-e373-8250c91d8bf8"
      },
      "source": [
        "#Octal To Integer Conversion 0o (zero + lowercase letter 'o')\n",
        "a = 0o1111\n",
        "print(\"The type of variable having value\", int(a), \" is \", type(a))"
      ],
      "execution_count": null,
      "outputs": [
        {
          "name": "stdout",
          "output_type": "stream",
          "text": [
            "The type of variable having value 585  is  <class 'int'>\n"
          ]
        }
      ]
    },
    {
      "cell_type": "code",
      "metadata": {
        "colab": {
          "base_uri": "https://localhost:8080/",
          "height": 35
        },
        "id": "ihM6z80mBalA",
        "outputId": "484cacdf-5764-40d8-dd19-a5006ed5a362"
      },
      "source": [
        "#Octal To Integer Conversion 0O (zero + uppercase letter 'O')\n",
        "a = 0O7777\n",
        "print(\"The type of variable having value\", int(a), \" is \", type(a))"
      ],
      "execution_count": null,
      "outputs": [
        {
          "name": "stdout",
          "output_type": "stream",
          "text": [
            "The type of variable having value 4095  is  <class 'int'>\n"
          ]
        }
      ]
    },
    {
      "cell_type": "markdown",
      "metadata": {
        "id": "gcrwrjM4BnCj"
      },
      "source": [
        "## INTEGER TO HEXADECIMAL and HEXADECIMAL TO INTEGER"
      ]
    },
    {
      "cell_type": "code",
      "metadata": {
        "colab": {
          "base_uri": "https://localhost:8080/",
          "height": 35
        },
        "id": "OHqLq1dXBvJW",
        "outputId": "57ddbe3d-5b25-41ca-d17b-a6c5a0d322ab"
      },
      "source": [
        "#Integer to Hexadecimal Conversion hex()\n",
        "a = 63\n",
        "print(\"The type of variable having value\", hex(a), \" is \", type(a))"
      ],
      "execution_count": null,
      "outputs": [
        {
          "name": "stdout",
          "output_type": "stream",
          "text": [
            "The type of variable having value 0x3f  is  <class 'int'>\n"
          ]
        }
      ]
    },
    {
      "cell_type": "code",
      "metadata": {
        "colab": {
          "base_uri": "https://localhost:8080/",
          "height": 35
        },
        "id": "bTLhy8_uB8cL",
        "outputId": "a4b30449-6668-43d4-96c1-bcdb605d73b6"
      },
      "source": [
        "#Hexadeciaml to Integer Conversion 0X (zero + uppercase letter 'X')\n",
        "a = 0XFace\n",
        "print(\"The type of variable having value\", int(a), \" is \", type(a))"
      ],
      "execution_count": null,
      "outputs": [
        {
          "name": "stdout",
          "output_type": "stream",
          "text": [
            "The type of variable having value 64206  is  <class 'int'>\n"
          ]
        }
      ]
    },
    {
      "cell_type": "code",
      "metadata": {
        "colab": {
          "base_uri": "https://localhost:8080/",
          "height": 35
        },
        "id": "_9ySpBsyCM1c",
        "outputId": "d05be687-7cf5-497c-f36d-6e55c8b75945"
      },
      "source": [
        "#Hexadecimal to Integer Conversion 0x (zero + lowercase letter 'x')\n",
        "a = 0xBeef\n",
        "print(\"The type of variable having value\", int(a), \" is \", type(a))"
      ],
      "execution_count": null,
      "outputs": [
        {
          "name": "stdout",
          "output_type": "stream",
          "text": [
            "The type of variable having value 48879  is  <class 'int'>\n"
          ]
        }
      ]
    },
    {
      "cell_type": "markdown",
      "metadata": {
        "id": "ZBpUyTJnWftK"
      },
      "source": [
        "In Python 3, there is effectively no limit to how long an integer value can be. Of course, it is constrained by the amount of memory your system has, as are all things, but beyond that an integer can be as long as you need it to be:"
      ]
    },
    {
      "cell_type": "code",
      "metadata": {
        "colab": {
          "base_uri": "https://localhost:8080/"
        },
        "id": "5x-tj94KWlVr",
        "outputId": "3023cea4-e46a-4718-cfa4-26d4a609f938"
      },
      "source": [
        "print(123123123123123123123123123123123123123123123123 + 1000)"
      ],
      "execution_count": null,
      "outputs": [
        {
          "name": "stdout",
          "output_type": "stream",
          "text": [
            "123123123123123123123123123123123123123123124123\n"
          ]
        }
      ]
    },
    {
      "cell_type": "markdown",
      "metadata": {
        "id": "vdWJiJHpCm9k"
      },
      "source": [
        "##FLOAT DATA TYPE\n",
        "\n",
        "The float type in Python designates a floating-point number. float values are specified with a decimal point. Optionally, the character e or E followed by a positive or negative integer may be appended to specify scientific notation:"
      ]
    },
    {
      "cell_type": "code",
      "metadata": {
        "colab": {
          "base_uri": "https://localhost:8080/",
          "height": 35
        },
        "id": "gxbCE_qb7a5T",
        "outputId": "8bac5e37-f461-46cd-f085-56487d85432b"
      },
      "source": [
        "#create a variable with float value. dollar price\n",
        "b=10.2345\n",
        "print(\"The type of variable having value\", b, \" is \", type(b))\n"
      ],
      "execution_count": null,
      "outputs": [
        {
          "name": "stdout",
          "output_type": "stream",
          "text": [
            "The type of variable having value 10.2345  is  <class 'float'>\n"
          ]
        }
      ]
    },
    {
      "cell_type": "markdown",
      "metadata": {
        "id": "MQ-871gqW-Rk"
      },
      "source": [
        "##Deep Dive: Floating-Point Representation\n",
        "\n",
        "The following is a bit more in-depth information on how Python represents floating-point numbers internally. You can readily use floating-point numbers in Python without understanding them to this level, so don’t worry if this seems overly complicated. The information is presented here in case you are curious.\n",
        "\n",
        "Almost all platforms represent Python float values as 64-bit “double-precision” values, according to the IEEE 754 standard. In that case, the maximum value a floating-point number can have is approximately 1.8 ⨉ 10308. Python will indicate a number greater than that by the string inf:"
      ]
    },
    {
      "cell_type": "code",
      "metadata": {
        "colab": {
          "base_uri": "https://localhost:8080/",
          "height": 35
        },
        "id": "G0Otp5ydDN-f",
        "outputId": "b2e76be9-6a63-434c-8f4b-9cf622095752"
      },
      "source": [
        "#Specify value in Exponential Form\n",
        "b = 1.2e3\n",
        "print(\"The type of variable having value\", b, \" is \", type(b))"
      ],
      "execution_count": null,
      "outputs": [
        {
          "name": "stdout",
          "output_type": "stream",
          "text": [
            "The type of variable having value 1200.0  is  <class 'float'>\n"
          ]
        }
      ]
    },
    {
      "cell_type": "code",
      "metadata": {
        "colab": {
          "base_uri": "https://localhost:8080/"
        },
        "id": "osw3FpMrXO4s",
        "outputId": "c66a5bf0-573d-4964-8636-92eedbddfe45"
      },
      "source": [
        "1.79e308"
      ],
      "execution_count": null,
      "outputs": [
        {
          "data": {
            "text/plain": [
              "1.79e+308"
            ]
          },
          "execution_count": 4,
          "metadata": {
            "tags": []
          },
          "output_type": "execute_result"
        }
      ]
    },
    {
      "cell_type": "code",
      "metadata": {
        "colab": {
          "base_uri": "https://localhost:8080/"
        },
        "id": "vgLzGlieXetG",
        "outputId": "30dec8c6-6923-4f0b-d621-4b1293f8ac11"
      },
      "source": [
        "1.8e308"
      ],
      "execution_count": null,
      "outputs": [
        {
          "data": {
            "text/plain": [
              "inf"
            ]
          },
          "execution_count": 1,
          "metadata": {
            "tags": []
          },
          "output_type": "execute_result"
        }
      ]
    },
    {
      "cell_type": "markdown",
      "metadata": {
        "id": "6acff8QMXo1D"
      },
      "source": [
        "The closest a nonzero number can be to zero is approximately 5.0 ⨉ 10^-324. Anything closer to zero than that is effectively zero:"
      ]
    },
    {
      "cell_type": "code",
      "metadata": {
        "colab": {
          "base_uri": "https://localhost:8080/",
          "height": 35
        },
        "id": "j6dYhKFXXrLR",
        "outputId": "29d90f01-94cd-4a73-ee34-ab5219c18e71"
      },
      "source": [
        "5e-324"
      ],
      "execution_count": null,
      "outputs": [
        {
          "data": {
            "text/plain": [
              "5e-324"
            ]
          },
          "execution_count": 16,
          "metadata": {
            "tags": []
          },
          "output_type": "execute_result"
        }
      ]
    },
    {
      "cell_type": "code",
      "metadata": {
        "colab": {
          "base_uri": "https://localhost:8080/",
          "height": 35
        },
        "id": "AeiaKnXJXvD2",
        "outputId": "c489095e-9bae-48e6-fc10-2893ab0dcc8f"
      },
      "source": [
        "1e-325"
      ],
      "execution_count": null,
      "outputs": [
        {
          "data": {
            "text/plain": [
              "0.0"
            ]
          },
          "execution_count": 17,
          "metadata": {
            "tags": []
          },
          "output_type": "execute_result"
        }
      ]
    },
    {
      "cell_type": "markdown",
      "metadata": {
        "id": "JfqvNCmjX_m0"
      },
      "source": [
        "Floating point numbers are represented internally as binary (base-2) fractions. Most decimal fractions cannot be represented exactly as binary fractions, so in most cases the internal representation of a floating-point number is an approximation of the actual value. In practice, the difference between the actual value and the represented value is very small and should not usually cause significant problems."
      ]
    },
    {
      "cell_type": "markdown",
      "metadata": {
        "id": "4-qRUqfZCtVh"
      },
      "source": [
        "Note:- Cant specify Floating Point value by using Bin(),hex(),Oct() No terminology for this."
      ]
    },
    {
      "cell_type": "markdown",
      "metadata": {
        "id": "iEBWCf-mEzPi"
      },
      "source": [
        "##COMPLEX DATA TYPE"
      ]
    },
    {
      "cell_type": "markdown",
      "metadata": {
        "id": "g3u_lQF0E6tM"
      },
      "source": [
        "Python Contains inbuilt data type very few Languages have this.\n",
        "\n",
        "complex notation-> (a+bj)\n",
        "\n",
        "a-> real part \n",
        "\n",
        "b-> imaginary part\n",
        "\n",
        "j-> compulsory\n",
        "\n",
        "imaginary part should be specified using decimal form only\n",
        "\n",
        "Real part can be represented in any form decimal bin(), oct(), hex()\n",
        "\n",
        "to check real and imaginary part\n",
        "\n",
        "com = (a + bj)\n",
        "\n",
        "com.real\n",
        "\n",
        "com.imag"
      ]
    },
    {
      "cell_type": "code",
      "metadata": {
        "colab": {
          "base_uri": "https://localhost:8080/",
          "height": 35
        },
        "id": "RKNlzt-m7e2g",
        "outputId": "6dcb45f8-5532-4456-c6b6-d7bb695c61dc"
      },
      "source": [
        "#create a variable with complex value.\n",
        "c=100+3j\n",
        "print(\"The type of variable having value\", c, \" is \", type(c))"
      ],
      "execution_count": null,
      "outputs": [
        {
          "name": "stdout",
          "output_type": "stream",
          "text": [
            "The type of variable having value (100+3j)  is  <class 'complex'>\n"
          ]
        }
      ]
    },
    {
      "cell_type": "code",
      "metadata": {
        "colab": {
          "base_uri": "https://localhost:8080/",
          "height": 52
        },
        "id": "4sy9wc_wIO8p",
        "outputId": "309ab2e6-aff3-4e25-cb51-6896a0666eae"
      },
      "source": [
        "#Checking Real and Imaginary part\n",
        "c=100+3j\n",
        "print(\"The real part is\", c.real)\n",
        "print(\"The iamginary part is\", c.imag)"
      ],
      "execution_count": null,
      "outputs": [
        {
          "name": "stdout",
          "output_type": "stream",
          "text": [
            "The real part is 100.0\n",
            "The iamginary part is 3.0\n"
          ]
        }
      ]
    },
    {
      "cell_type": "code",
      "metadata": {
        "colab": {
          "base_uri": "https://localhost:8080/",
          "height": 35
        },
        "id": "-aq0nqdHHU2H",
        "outputId": "b79d7156-9b39-466c-a687-293f4b756b6a"
      },
      "source": [
        "#create a variable with complex value. (real part as binary)\n",
        "c=0b1111+3j\n",
        "print(\"The type of variable having value\", c, \" is \", type(c))"
      ],
      "execution_count": null,
      "outputs": [
        {
          "name": "stdout",
          "output_type": "stream",
          "text": [
            "The type of variable having value (15+3j)  is  <class 'complex'>\n"
          ]
        }
      ]
    },
    {
      "cell_type": "code",
      "metadata": {
        "colab": {
          "base_uri": "https://localhost:8080/",
          "height": 35
        },
        "id": "4hQqmylMHr6T",
        "outputId": "62c2cc18-cff5-40ca-97fc-78419c40a5b7"
      },
      "source": [
        "#create a variable with complex value. (real part as octal)\n",
        "c=0o1111+3j\n",
        "print(\"The type of variable having value\", c, \" is \", type(c))"
      ],
      "execution_count": null,
      "outputs": [
        {
          "name": "stdout",
          "output_type": "stream",
          "text": [
            "The type of variable having value (585+3j)  is  <class 'complex'>\n"
          ]
        }
      ]
    },
    {
      "cell_type": "code",
      "metadata": {
        "colab": {
          "base_uri": "https://localhost:8080/",
          "height": 35
        },
        "id": "5M4WcL7RH35F",
        "outputId": "65741464-08cc-4da5-e8b1-fd1a19c78d7b"
      },
      "source": [
        "#create a variable with complex value. (real part as hexadecimal)\n",
        "c=0xaaaa+3j\n",
        "print(\"The type of variable having value\", c, \" is \", type(c))"
      ],
      "execution_count": null,
      "outputs": [
        {
          "name": "stdout",
          "output_type": "stream",
          "text": [
            "The type of variable having value (43690+3j)  is  <class 'complex'>\n"
          ]
        }
      ]
    },
    {
      "cell_type": "code",
      "metadata": {
        "colab": {
          "base_uri": "https://localhost:8080/"
        },
        "id": "SYC1TJCMuXlQ",
        "outputId": "99d289a4-5af0-4862-badf-3cbb52c6408f"
      },
      "source": [
        "d = (12+ 6j)\n",
        "print(d)"
      ],
      "execution_count": null,
      "outputs": [
        {
          "name": "stdout",
          "output_type": "stream",
          "text": [
            "(12+6j)\n"
          ]
        }
      ]
    },
    {
      "cell_type": "markdown",
      "metadata": {
        "id": "cMT6Z7rp8ADA"
      },
      "source": [
        "##If you run the above code you will see output like the below image.\n",
        "![picture](https://cdn.journaldev.com/wp-content/uploads/2017/05/datatypes_useOf_type.png)"
      ]
    },
    {
      "cell_type": "markdown",
      "metadata": {
        "id": "0-RLwgXa8hpJ"
      },
      "source": [
        "##Numeric Type Conversion\n",
        "\n",
        "Most of the time Python will do variable conversion automatically. You can also use Python conversion functions \n",
        "\n",
        "int(), \n",
        "\n",
        "float(),\n",
        "\n",
        "complex()\n",
        "\n",
        "to convert data from one type to another. In addition, the type function returns information about how your data is stored within a variable."
      ]
    },
    {
      "cell_type": "markdown",
      "metadata": {
        "id": "KaNrc8YpKwTb"
      },
      "source": [
        "##CONVERTING INTEGER DATA TO FLOAT AND COMPLEX"
      ]
    },
    {
      "cell_type": "code",
      "metadata": {
        "colab": {
          "base_uri": "https://localhost:8080/",
          "height": 51
        },
        "id": "6ukkUgJ-7nKr",
        "outputId": "1e86a46c-2fb7-4580-baac-c0ae97c64b04"
      },
      "source": [
        "#Converting Integer to Float\n",
        "a=100\n",
        "print(type(a))\n",
        "b =  float(a)\n",
        "print(type(b))"
      ],
      "execution_count": null,
      "outputs": [
        {
          "name": "stdout",
          "output_type": "stream",
          "text": [
            "<class 'int'>\n",
            "<class 'float'>\n"
          ]
        }
      ]
    },
    {
      "cell_type": "code",
      "metadata": {
        "colab": {
          "base_uri": "https://localhost:8080/",
          "height": 34
        },
        "id": "3910go-tJhXH",
        "outputId": "772bdcaf-67bd-4806-9cbc-d37b97d6ee69"
      },
      "source": [
        "#Converting Integer to complex\n",
        "a=100\n",
        "print(\"Type conversion to float \", complex(a))"
      ],
      "execution_count": null,
      "outputs": [
        {
          "name": "stdout",
          "output_type": "stream",
          "text": [
            "Type conversion to float  (100+0j)\n"
          ]
        }
      ]
    },
    {
      "cell_type": "code",
      "metadata": {
        "colab": {
          "base_uri": "https://localhost:8080/"
        },
        "id": "oMyf4bbWPJqM",
        "outputId": "9dd5552b-64ee-41ee-c83d-ed5c8ab8d19a"
      },
      "source": [
        "c = complex(4,5)\n",
        "c"
      ],
      "execution_count": null,
      "outputs": [
        {
          "data": {
            "text/plain": [
              "(4+5j)"
            ]
          },
          "execution_count": 3,
          "metadata": {
            "tags": []
          },
          "output_type": "execute_result"
        }
      ]
    },
    {
      "cell_type": "markdown",
      "metadata": {
        "id": "pNR75jWKK2me"
      },
      "source": [
        "##CONVERTING FLOAT TO INTEGER AND COMPLEX"
      ]
    },
    {
      "cell_type": "code",
      "metadata": {
        "colab": {
          "base_uri": "https://localhost:8080/",
          "height": 35
        },
        "id": "lEPS0LluKpRc",
        "outputId": "76023e5c-6341-4938-88ac-bd02da9b95a8"
      },
      "source": [
        "#converting  a variable with float value to Integer\n",
        "b=10.2345\n",
        "print(\"Flaot to integer is\", int(b))\n"
      ],
      "execution_count": null,
      "outputs": [
        {
          "name": "stdout",
          "output_type": "stream",
          "text": [
            "Flaot to integer is 10\n"
          ]
        }
      ]
    },
    {
      "cell_type": "code",
      "metadata": {
        "colab": {
          "base_uri": "https://localhost:8080/"
        },
        "id": "UNLXMB92LUU6",
        "outputId": "faa835f7-ec56-4572-d55f-8fe250e2284b"
      },
      "source": [
        "#converting a variable with float value Complex\n",
        "b=10.2345\n",
        "print(\"Float to Complex is\", complex(b))\n"
      ],
      "execution_count": null,
      "outputs": [
        {
          "output_type": "stream",
          "name": "stdout",
          "text": [
            "Float to Complex is (10.2345+0j)\n"
          ]
        }
      ]
    },
    {
      "cell_type": "markdown",
      "metadata": {
        "id": "m7DFUrwbLrV5"
      },
      "source": [
        "##Setting Precision\n",
        "\n",
        "There are many ways to set precision of floating point value. Some of them is discussed below.\n",
        "\n",
        "1. Using “%” :- “%” operator is used to format as well as set precision in python. This is similar to “printf” statement in C programming.\n",
        "\n",
        "2. Using format() :- This is yet another way to format the string for setting precision.\n",
        "\n",
        "3. Using round(x,n) :- This function takes 2 arguments, number and the number till which we want decimal part rounded."
      ]
    },
    {
      "cell_type": "code",
      "source": [
        "4.5"
      ],
      "metadata": {
        "id": "4yws11UP732p"
      },
      "execution_count": null,
      "outputs": []
    },
    {
      "cell_type": "code",
      "metadata": {
        "colab": {
          "base_uri": "https://localhost:8080/"
        },
        "id": "7oMkukZ8Lo8f",
        "outputId": "9fc7d5a6-468c-423e-d923-64ea8f9287cb"
      },
      "source": [
        "a = 3.4536879700\n",
        "  \n",
        "# using \"%\" to print value till 2 decimal places  \n",
        "print (\"The value of number till 2 decimal place(using %) is : \",end=\"\") \n",
        "print ('%.f'%a) \n",
        "  \n",
        "# using format() to print value till 3 decimal places  \n",
        "print (\"The value of number till 3 decimal place(using format()) is : \",end=\"\") \n",
        "print (\"{0:.3f}\".format(a)) \n",
        "  \n",
        "# using round() to print value till 1 decimal places  \n",
        "print (\"The value of number till 1 decimal place(using round()) is : \",end=\"\") \n",
        "print (round(a,3)) "
      ],
      "execution_count": null,
      "outputs": [
        {
          "output_type": "stream",
          "text": [
            "The value of number till 2 decimal place(using %) is : 3\n",
            "The value of number till 3 decimal place(using format()) is : 3.454\n",
            "The value of number till 1 decimal place(using round()) is : 3.454\n"
          ],
          "name": "stdout"
        }
      ]
    },
    {
      "cell_type": "code",
      "source": [
        "print('hello world')"
      ],
      "metadata": {
        "colab": {
          "base_uri": "https://localhost:8080/"
        },
        "id": "_hRa86T01Mv9",
        "outputId": "5da1fd8d-c540-44ed-8d2b-6bc0a153441c"
      },
      "execution_count": null,
      "outputs": [
        {
          "output_type": "stream",
          "name": "stdout",
          "text": [
            "hello world\n"
          ]
        }
      ]
    },
    {
      "cell_type": "markdown",
      "metadata": {
        "id": "sd3KjTWhMdF6"
      },
      "source": [
        "##COMPLEX TO INTEGER AND FLOAT"
      ]
    },
    {
      "cell_type": "code",
      "metadata": {
        "colab": {
          "base_uri": "https://localhost:8080/",
          "height": 201
        },
        "id": "tAMzqxwnME3e",
        "outputId": "242021ae-c6e9-4006-a562-1dcd74f16d1d"
      },
      "source": [
        "#converting  a variable with complex value to integer\n",
        "c=100+3j\n",
        "print(\"complex to integer\", int(c))"
      ],
      "execution_count": null,
      "outputs": [
        {
          "ename": "TypeError",
          "evalue": "ignored",
          "output_type": "error",
          "traceback": [
            "\u001b[0;31m---------------------------------------------------------------------------\u001b[0m",
            "\u001b[0;31mTypeError\u001b[0m                                 Traceback (most recent call last)",
            "\u001b[0;32m<ipython-input-28-8c4aaeae70e7>\u001b[0m in \u001b[0;36m<module>\u001b[0;34m()\u001b[0m\n\u001b[1;32m      1\u001b[0m \u001b[0;31m#converting  a variable with complex value to integer\u001b[0m\u001b[0;34m\u001b[0m\u001b[0;34m\u001b[0m\u001b[0;34m\u001b[0m\u001b[0m\n\u001b[1;32m      2\u001b[0m \u001b[0mc\u001b[0m\u001b[0;34m=\u001b[0m\u001b[0;36m100\u001b[0m\u001b[0;34m+\u001b[0m\u001b[0;36m3j\u001b[0m\u001b[0;34m\u001b[0m\u001b[0;34m\u001b[0m\u001b[0m\n\u001b[0;32m----> 3\u001b[0;31m \u001b[0mprint\u001b[0m\u001b[0;34m(\u001b[0m\u001b[0;34m\"complex to integer\"\u001b[0m\u001b[0;34m,\u001b[0m \u001b[0mint\u001b[0m\u001b[0;34m(\u001b[0m\u001b[0mc\u001b[0m\u001b[0;34m)\u001b[0m\u001b[0;34m)\u001b[0m\u001b[0;34m\u001b[0m\u001b[0;34m\u001b[0m\u001b[0m\n\u001b[0m",
            "\u001b[0;31mTypeError\u001b[0m: can't convert complex to int"
          ]
        }
      ]
    },
    {
      "cell_type": "code",
      "metadata": {
        "colab": {
          "base_uri": "https://localhost:8080/",
          "height": 199
        },
        "id": "GHCjReFvM-tn",
        "outputId": "4cf6f60c-2028-4a74-957c-b2d14e9a0e02"
      },
      "source": [
        "#converting a variable with complex value to float\n",
        "c=100+3j\n",
        "print(\"Complex to Flaot\",float(c))"
      ],
      "execution_count": null,
      "outputs": [
        {
          "ename": "TypeError",
          "evalue": "ignored",
          "output_type": "error",
          "traceback": [
            "\u001b[0;31m---------------------------------------------------------------------------\u001b[0m",
            "\u001b[0;31mTypeError\u001b[0m                                 Traceback (most recent call last)",
            "\u001b[0;32m<ipython-input-1-d00104034735>\u001b[0m in \u001b[0;36m<module>\u001b[0;34m()\u001b[0m\n\u001b[1;32m      1\u001b[0m \u001b[0;31m#converting a variable with complex value to float\u001b[0m\u001b[0;34m\u001b[0m\u001b[0;34m\u001b[0m\u001b[0;34m\u001b[0m\u001b[0m\n\u001b[1;32m      2\u001b[0m \u001b[0mc\u001b[0m\u001b[0;34m=\u001b[0m\u001b[0;36m100\u001b[0m\u001b[0;34m+\u001b[0m\u001b[0;36m3j\u001b[0m\u001b[0;34m\u001b[0m\u001b[0;34m\u001b[0m\u001b[0m\n\u001b[0;32m----> 3\u001b[0;31m \u001b[0mprint\u001b[0m\u001b[0;34m(\u001b[0m\u001b[0;34m\"Complex to Flaot\"\u001b[0m\u001b[0;34m,\u001b[0m\u001b[0mfloat\u001b[0m\u001b[0;34m(\u001b[0m\u001b[0mc\u001b[0m\u001b[0;34m)\u001b[0m\u001b[0;34m)\u001b[0m\u001b[0;34m\u001b[0m\u001b[0;34m\u001b[0m\u001b[0m\n\u001b[0m",
            "\u001b[0;31mTypeError\u001b[0m: can't convert complex to float"
          ]
        }
      ]
    },
    {
      "cell_type": "markdown",
      "metadata": {
        "id": "eZVFnBWfRk-A"
      },
      "source": [
        "##data type conversion in Python?\n",
        "As the name says, it is converting the value of one data type to another. This process is called data type conversion in Python.\n",
        "\n",
        "Q)How many types of conversion is there in Python?\n",
        "\n",
        "Similar to most languages, there are two types of conversion.\n",
        "\n",
        "Implicit Type Conversion\n",
        "\n",
        "\n",
        "Explicit Type Conversion"
      ]
    },
    {
      "cell_type": "code",
      "metadata": {
        "colab": {
          "base_uri": "https://localhost:8080/"
        },
        "id": "igLp3J5Hu0rk",
        "outputId": "c509606c-7cbf-466b-e3d1-7a491f0eab61"
      },
      "source": [
        "a = 10\n",
        "print(type(a))\n",
        "b= a+3.14\n",
        "print(type(b))"
      ],
      "execution_count": null,
      "outputs": [
        {
          "name": "stdout",
          "output_type": "stream",
          "text": [
            "<class 'int'>\n",
            "<class 'float'>\n"
          ]
        }
      ]
    },
    {
      "cell_type": "markdown",
      "metadata": {
        "id": "9jv-Dd3iR22B"
      },
      "source": [
        "##Q) What is Implicit Type Conversion?\n",
        "In implicit conversion, Python converts one data type into another data type without any user involvement.\n",
        "\n",
        "Let’s consider the following code."
      ]
    },
    {
      "cell_type": "code",
      "metadata": {
        "colab": {
          "base_uri": "https://localhost:8080/"
        },
        "id": "RXP1D22HNQSy",
        "outputId": "c4cf5f32-a6ec-479f-d13d-fa4dbd7362e2"
      },
      "source": [
        "int_number = 843\n",
        "float_number = 8.43\n",
        "result= int_number + float_number\n",
        "print(\"Data Type of Integer:\",type(int_number))\n",
        "print(\"Data Type of Float:\",type(float_number))\n",
        "print(\"Result Value:\",result)\n",
        "print(\"Data Type of Result:\",type(result))"
      ],
      "execution_count": null,
      "outputs": [
        {
          "output_type": "stream",
          "name": "stdout",
          "text": [
            "Data Type of Integer: <class 'int'>\n",
            "Data Type of Float: <class 'float'>\n",
            "Result Value: 851.43\n",
            "Data Type of Result: <class 'float'>\n"
          ]
        }
      ]
    },
    {
      "cell_type": "markdown",
      "metadata": {
        "id": "Ge2Wi3wxSNQe"
      },
      "source": [
        "Note that there is no requirement for any conversion procedure here because Python will handle these kinds of conversions automatically."
      ]
    },
    {
      "cell_type": "markdown",
      "metadata": {
        "id": "PXvxGAsDSPmJ"
      },
      "source": [
        "##Q)What is Explicit Type Conversion?\n",
        "In Explicit conversion, the user has to convert the data type of an object to the desired data type as per requirement. One can achieve the above using the default functions – float(), int(), string().\n",
        "\n",
        "\n",
        "This process is sometimes called typecasting of data, as the user casts the data type of any object.\n",
        "\n",
        "Consider the code below."
      ]
    },
    {
      "cell_type": "code",
      "metadata": {
        "colab": {
          "base_uri": "https://localhost:8080/",
          "height": 235
        },
        "id": "vjZjVBKrSOW7",
        "outputId": "25d25a12-0569-4713-b8ef-bad785d78a1c"
      },
      "source": [
        "int_number = 843\n",
        "string_number = '843'\n",
        "print(\"Data Type of Integer:\",type(int_number))\n",
        "print(\"Data Type of String:\",type(string_number))\n",
        "print(int_number + string_number)"
      ],
      "execution_count": null,
      "outputs": [
        {
          "output_type": "stream",
          "name": "stdout",
          "text": [
            "Data Type of Integer: <class 'int'>\n",
            "Data Type of String: <class 'str'>\n"
          ]
        },
        {
          "output_type": "error",
          "ename": "TypeError",
          "evalue": "ignored",
          "traceback": [
            "\u001b[0;31m---------------------------------------------------------------------------\u001b[0m",
            "\u001b[0;31mTypeError\u001b[0m                                 Traceback (most recent call last)",
            "\u001b[0;32m<ipython-input-8-5d8ca101cd20>\u001b[0m in \u001b[0;36m<module>\u001b[0;34m()\u001b[0m\n\u001b[1;32m      3\u001b[0m \u001b[0mprint\u001b[0m\u001b[0;34m(\u001b[0m\u001b[0;34m\"Data Type of Integer:\"\u001b[0m\u001b[0;34m,\u001b[0m\u001b[0mtype\u001b[0m\u001b[0;34m(\u001b[0m\u001b[0mint_number\u001b[0m\u001b[0;34m)\u001b[0m\u001b[0;34m)\u001b[0m\u001b[0;34m\u001b[0m\u001b[0;34m\u001b[0m\u001b[0m\n\u001b[1;32m      4\u001b[0m \u001b[0mprint\u001b[0m\u001b[0;34m(\u001b[0m\u001b[0;34m\"Data Type of String:\"\u001b[0m\u001b[0;34m,\u001b[0m\u001b[0mtype\u001b[0m\u001b[0;34m(\u001b[0m\u001b[0mstring_number\u001b[0m\u001b[0;34m)\u001b[0m\u001b[0;34m)\u001b[0m\u001b[0;34m\u001b[0m\u001b[0;34m\u001b[0m\u001b[0m\n\u001b[0;32m----> 5\u001b[0;31m \u001b[0mprint\u001b[0m\u001b[0;34m(\u001b[0m\u001b[0mint_number\u001b[0m \u001b[0;34m+\u001b[0m \u001b[0mstring_number\u001b[0m\u001b[0;34m)\u001b[0m\u001b[0;34m\u001b[0m\u001b[0;34m\u001b[0m\u001b[0m\n\u001b[0m",
            "\u001b[0;31mTypeError\u001b[0m: unsupported operand type(s) for +: 'int' and 'str'"
          ]
        }
      ]
    },
    {
      "cell_type": "markdown",
      "metadata": {
        "id": "OD8my6iySe6n"
      },
      "source": [
        "In this scenario, Python cannot handle data type conversion automatically. So, we use Explicit conversion for these scenarios.\n",
        "\n",
        "But how?\n",
        "\n",
        "Check this code out!"
      ]
    },
    {
      "cell_type": "code",
      "metadata": {
        "id": "oYn-UAHBSpBK"
      },
      "source": [
        "int_number = 843\n",
        "string_number = \"843\"\n",
        "\n",
        "print(\"Data Type of Integer:\",type(int_number ))\n",
        "print(\"Data Type of String before casting:\",type(string_number ))\n",
        "\n",
        "string_number = int(string_number )\n",
        "\n",
        "print(\"Data Type of String after casting:\",type(string_number ))\n",
        "result = int_number + string_number\n",
        "print(\"Result:\",result )\n",
        "print(\"Data type of result :\",type(result ))"
      ],
      "execution_count": null,
      "outputs": []
    },
    {
      "cell_type": "markdown",
      "metadata": {
        "id": "BycIyY8jTSgT"
      },
      "source": [
        "In the above example, Python cannot convert data types automatically when you try to add two different data types that are not possible. \n",
        "\n",
        "To overcome such scenarios where Python cannot use implicit conversion, we use explicit conversion."
      ]
    },
    {
      "cell_type": "markdown",
      "metadata": {
        "id": "nnPUOZ87TjjX"
      },
      "source": [
        "##Here are some of the key points that you need to keep in mind when converting data types.\n",
        "\n",
        "\n",
        "\n",
        "1.   Conversion always happens from one data type object to another data type object.\n",
        "2.   Python interpreter will take care of Implicit conversion automatically, also, it avoids loss of data.\n",
        "\n",
        "\n",
        "\n",
        "3.   Explicit Conversion also called Casting, when in-built functions were being used to perform this action.\n",
        "2.   In Explicit Conversion, if we forcibly convert to a specific data type, there are chances for loss of data.\n",
        "\n",
        "\n",
        "\n"
      ]
    },
    {
      "cell_type": "markdown",
      "metadata": {
        "id": "gMzpCHgWU6Rj"
      },
      "source": [
        "##Mutable and Immutable Objects\n",
        "Data objects of the above types are stored in a computer's memory for processing. Some of these values can be modified during processing, but contents of others can't be altered once they are created in the memory.\n",
        "\n",
        "Number values, strings, and tuple are immutable, which means their contents can't be altered after creation.\n",
        "\n",
        "On the other hand, collection of items in a List or Dictionary object can be modified. It is possible to add, delete, insert, and rearrange items in a list or dictionary. Hence, they are mutable objects."
      ]
    },
    {
      "cell_type": "markdown",
      "metadata": {
        "id": "YCahyG_ignrJ"
      },
      "source": [
        "##Boolean Data type"
      ]
    },
    {
      "cell_type": "markdown",
      "metadata": {
        "id": "QwZKE0ZQg1j7"
      },
      "source": [
        "Data with one of two built-in values **True** or **False**. Notice that **'T' and 'F'** are capital. true and false are not valid booleans and Python will throw an error for them.\n",
        "\n",
        "True = 1  False = 0 (Internally)\n"
      ]
    },
    {
      "cell_type": "code",
      "metadata": {
        "colab": {
          "base_uri": "https://localhost:8080/",
          "height": 34
        },
        "id": "06ZDwb7JisPH",
        "outputId": "365c0c24-9304-4f06-f269-aa790a8e6ca9"
      },
      "source": [
        "type(True)"
      ],
      "execution_count": null,
      "outputs": [
        {
          "data": {
            "text/plain": [
              "bool"
            ]
          },
          "execution_count": 1,
          "metadata": {
            "tags": []
          },
          "output_type": "execute_result"
        }
      ]
    },
    {
      "cell_type": "code",
      "metadata": {
        "colab": {
          "base_uri": "https://localhost:8080/"
        },
        "id": "3uaFgCHbiuO2",
        "outputId": "90158771-f86f-410c-fb29-6e0586511044"
      },
      "source": [
        "type(False)"
      ],
      "execution_count": null,
      "outputs": [
        {
          "data": {
            "text/plain": [
              "bool"
            ]
          },
          "execution_count": 9,
          "metadata": {
            "tags": []
          },
          "output_type": "execute_result"
        }
      ]
    },
    {
      "cell_type": "code",
      "metadata": {
        "colab": {
          "base_uri": "https://localhost:8080/",
          "height": 34
        },
        "id": "K2hBrI-HgNfv",
        "outputId": "ab98ebd8-1175-403c-ca0e-ae2395222c83"
      },
      "source": [
        "True + True"
      ],
      "execution_count": null,
      "outputs": [
        {
          "data": {
            "text/plain": [
              "2"
            ]
          },
          "execution_count": 2,
          "metadata": {
            "tags": []
          },
          "output_type": "execute_result"
        }
      ]
    },
    {
      "cell_type": "code",
      "metadata": {
        "colab": {
          "background_save": true
        },
        "id": "woE4CyX1hfVg",
        "outputId": "207d5aba-bd39-4894-b39d-9a79fd091626"
      },
      "source": [
        "True + False"
      ],
      "execution_count": null,
      "outputs": [
        {
          "data": {
            "text/plain": [
              "1"
            ]
          },
          "execution_count": 0,
          "metadata": {
            "tags": []
          },
          "output_type": "execute_result"
        }
      ]
    },
    {
      "cell_type": "code",
      "metadata": {
        "colab": {
          "base_uri": "https://localhost:8080/",
          "height": 164
        },
        "id": "svvRRK5whrKC",
        "outputId": "66440c58-1999-4b17-fb1e-823ca620cc3e"
      },
      "source": [
        "True/False"
      ],
      "execution_count": null,
      "outputs": [
        {
          "ename": "ZeroDivisionError",
          "evalue": "ignored",
          "output_type": "error",
          "traceback": [
            "\u001b[0;31m---------------------------------------------------------------------------\u001b[0m",
            "\u001b[0;31mZeroDivisionError\u001b[0m                         Traceback (most recent call last)",
            "\u001b[0;32m<ipython-input-10-f64d1295bbce>\u001b[0m in \u001b[0;36m<module>\u001b[0;34m()\u001b[0m\n\u001b[0;32m----> 1\u001b[0;31m \u001b[0;32mTrue\u001b[0m\u001b[0;34m/\u001b[0m\u001b[0;32mFalse\u001b[0m\u001b[0;34m\u001b[0m\u001b[0;34m\u001b[0m\u001b[0m\n\u001b[0m",
            "\u001b[0;31mZeroDivisionError\u001b[0m: division by zero"
          ]
        }
      ]
    },
    {
      "cell_type": "markdown",
      "metadata": {
        "id": "l1NwWSa4i8St"
      },
      "source": [
        "As you will see in upcoming tutorials, expressions in Python are often evaluated in Boolean context, meaning they are interpreted to represent truth or falsehood. A value that is true in Boolean context is sometimes said to be “truthy,” and one that is false in Boolean context is said to be “falsy.” (You may also see “falsy” spelled “falsey.”)\n",
        "\n",
        "**The “truthiness” of an object of Boolean type is self-evident**: Boolean objects that are equal to True are truthy (true), and those equal to False are falsy (false). But non-Boolean objects can be evaluated in Boolean context as well and determined to be true or false.\n",
        "\n",
        "You will learn more about evaluation of objects in Boolean context when you encounter **logical operators in the upcoming tutorial on operators and expressions in Python**.\n",
        "\n",
        "It is denoted by the class bool."
      ]
    },
    {
      "cell_type": "code",
      "metadata": {
        "id": "Sj8WPgSuhw8D"
      },
      "source": [
        "x = bool(2)"
      ],
      "execution_count": null,
      "outputs": []
    },
    {
      "cell_type": "code",
      "metadata": {
        "colab": {
          "base_uri": "https://localhost:8080/"
        },
        "id": "J1YgyhgMh107",
        "outputId": "fd42a3cc-31dd-40f5-f512-ca63a8e4684c"
      },
      "source": [
        "#display x:\n",
        "print(x)\n",
        "\n"
      ],
      "execution_count": null,
      "outputs": [
        {
          "name": "stdout",
          "output_type": "stream",
          "text": [
            "True\n"
          ]
        }
      ]
    },
    {
      "cell_type": "code",
      "metadata": {
        "colab": {
          "base_uri": "https://localhost:8080/",
          "height": 34
        },
        "id": "TJQ2csS7h_XH",
        "outputId": "f7e2879e-0fa6-41d4-f1f1-5b31fbcf93ce"
      },
      "source": [
        "#display the data type of x:\n",
        "print(type(x)) "
      ],
      "execution_count": null,
      "outputs": [
        {
          "name": "stdout",
          "output_type": "stream",
          "text": [
            "<class 'bool'>\n"
          ]
        }
      ]
    },
    {
      "cell_type": "code",
      "metadata": {
        "colab": {
          "base_uri": "https://localhost:8080/"
        },
        "id": "u5IkMxVujV-F",
        "outputId": "296be17d-8741-447b-e925-ae9040bd8aec"
      },
      "source": [
        "a = 1+2j\n",
        "print(a, \"is complex number?\", isinstance(1+2j, complex))"
      ],
      "execution_count": null,
      "outputs": [
        {
          "name": "stdout",
          "output_type": "stream",
          "text": [
            "(1+2j) is complex number? True\n"
          ]
        }
      ]
    },
    {
      "cell_type": "markdown",
      "metadata": {
        "id": "FaSbHN7rmTYR"
      },
      "source": [
        "##Python Data Type – String\n",
        " \n",
        "1. The string is a sequence of characters. **Python supports Unicode characters**.\n",
        " \n",
        "Generally, strings are represented by either single or double quotes. \n",
        " \n",
        "**Python does not have a character data type, a single character is also considered as a string**.\n",
        " \n",
        "Python string is an ordered collection of characters which is used to **represent and store the text-based information**.\n",
        " \n",
        "Strings are stored as individual characters in a contiguous memory location\n",
        " \n",
        " \n",
        "2.Create string variables by enclosing characters in quotes. Python uses ' single quotes ', \" double quotes \" and triple quotes \"\"\" to denote literal strings. Only the triple quoted strings \"\"\" also will automatically continue across the end of line statement.\n",
        " \n",
        "3.Strings are immutable which means once we declare a string we can't update the already declared string.\n",
        " \n",
        "5. It can be accessed from both directions: forward and backward\n",
        " \n",
        "6.Strings are immutable Data Types in Python, which means that once a string is created, they cannot be changed."
      ]
    },
    {
      "cell_type": "code",
      "source": [
        "a=\" \"\n",
        "b= \"a\"\n",
        "print(type(b))\n",
        "print(type(a))\n",
        "num = '8830309897'\n",
        "print(type(num))\n",
        "num_1=int(num)\n",
        "\n"
      ],
      "metadata": {
        "colab": {
          "base_uri": "https://localhost:8080/"
        },
        "id": "Luu_O9hRybWz",
        "outputId": "17d8952b-ef09-4fd6-f9ee-f12712137ed7"
      },
      "execution_count": null,
      "outputs": [
        {
          "output_type": "stream",
          "name": "stdout",
          "text": [
            "<class 'str'>\n",
            "<class 'str'>\n",
            "<class 'str'>\n"
          ]
        }
      ]
    },
    {
      "cell_type": "code",
      "metadata": {
        "colab": {
          "base_uri": "https://localhost:8080/"
        },
        "id": "xgTm1ChAmi4a",
        "outputId": "9038d874-a731-4b82-b7e6-054358be26e3"
      },
      "source": [
        "a = \"string in a double quote\"\n",
        "b = 'string in a single quote'\n",
        "print(a)\n",
        "print(type(a))\n",
        "print(b)"
      ],
      "execution_count": null,
      "outputs": [
        {
          "output_type": "stream",
          "name": "stdout",
          "text": [
            "string in a double quote\n",
            "<class 'str'>\n",
            "string in a single quote\n"
          ]
        }
      ]
    },
    {
      "cell_type": "markdown",
      "source": [
        "### Concatination"
      ],
      "metadata": {
        "id": "_j-JTHXyfCVj"
      }
    },
    {
      "cell_type": "code",
      "source": [
        "first_name = \"Swaraj\"\n",
        "Fathers_Name = \"Vijay\"\n",
        "Last_Name = \"Raut\"\n",
        "\n",
        "#method1\n",
        "print(first_name, Fathers_Name, Last_Name)\n",
        "\n",
        "#method2\n",
        "print(first_name +\" \"+ Fathers_Name+\" \" + Last_Name)\n",
        "\n",
        "#method3\n",
        "full_name = first_name +\" \"+ Fathers_Name+\" \"+ Last_Name\n",
        "print(\"full_name=\",full_name)\n",
        "\n",
        "#method 4 f-string\n",
        "print(f\"student name is\\n  {Last_Name} {Fathers_Name} {first_name}\")\n",
        "\n",
        "#method 5 \n",
        "print('student name is {} {} {}'.format (first_name,Fathers_Name,Last_Name) )\n",
        "\n"
      ],
      "metadata": {
        "colab": {
          "base_uri": "https://localhost:8080/"
        },
        "id": "Q6EyK2fVcsR2",
        "outputId": "9e766867-cd0a-470b-c970-af41aa47d63e"
      },
      "execution_count": null,
      "outputs": [
        {
          "output_type": "stream",
          "name": "stdout",
          "text": [
            "Swaraj Vijay Raut\n",
            "Swaraj Vijay Raut\n",
            "full_name= Swaraj Vijay Raut\n",
            "student name is\n",
            "  Raut Vijay Swaraj\n",
            "student name is Swaraj Vijay Raut\n"
          ]
        }
      ]
    },
    {
      "cell_type": "code",
      "metadata": {
        "colab": {
          "base_uri": "https://localhost:8080/"
        },
        "id": "OXFT88TYmmMH",
        "outputId": "528e5d1a-d05f-49dc-e6d0-37e1393d5b3f"
      },
      "source": [
        "# using ',' to concatenate the two or several strings\n",
        "print(a,\"concatenated with\",b)\n",
        "\n",
        "#using '+' to concate the two or several strings\n",
        "print(a+\" concated with \"+b)"
      ],
      "execution_count": null,
      "outputs": [
        {
          "name": "stdout",
          "output_type": "stream",
          "text": [
            "string in a double quote concatenated with string in a single quote\n",
            "string in a double quote concated with string in a single quote\n"
          ]
        }
      ]
    },
    {
      "cell_type": "code",
      "metadata": {
        "colab": {
          "base_uri": "https://localhost:8080/"
        },
        "id": "5KYaOvtUmVeJ",
        "outputId": "f4f8763b-527e-4cc0-dc43-12d268a8ed75"
      },
      "source": [
        "element = \"vivek\"\n",
        "count = 5\n",
        "print (\"The item {} is repeated {} times\".format(element,count))"
      ],
      "execution_count": null,
      "outputs": [
        {
          "output_type": "stream",
          "name": "stdout",
          "text": [
            "The item vivek is repeated 5 times\n"
          ]
        }
      ]
    },
    {
      "cell_type": "code",
      "source": [
        "name = 'vivek'\n",
        "surname = 'borkar'\n",
        "print(\"my name is {} and surname is {}\".format(name,surname))"
      ],
      "metadata": {
        "colab": {
          "base_uri": "https://localhost:8080/"
        },
        "id": "ODvvhuRABFjW",
        "outputId": "c3d57888-185a-4d92-cbe8-d779a746c886"
      },
      "execution_count": null,
      "outputs": [
        {
          "output_type": "stream",
          "name": "stdout",
          "text": [
            "my name is vivek and surname is borkar\n"
          ]
        }
      ]
    },
    {
      "cell_type": "code",
      "source": [
        "guest_list = [\"ajay\",\"salman\",\"shharukh\",\"ranvir\"]\n",
        "\n",
        "for i in guest_list:\n",
        "  print('welcome to party {}'.format(i))"
      ],
      "metadata": {
        "colab": {
          "base_uri": "https://localhost:8080/"
        },
        "id": "LM2ANDImBqLR",
        "outputId": "98de748a-8096-4f77-d2ca-2dab9f708136"
      },
      "execution_count": null,
      "outputs": [
        {
          "output_type": "stream",
          "name": "stdout",
          "text": [
            "welcome to party ajay\n",
            "welcome to party salman\n",
            "welcome to party shharukh\n",
            "welcome to party ranvir\n"
          ]
        }
      ]
    },
    {
      "cell_type": "code",
      "source": [
        ""
      ],
      "metadata": {
        "id": "Ia23x2gMA4jX"
      },
      "execution_count": null,
      "outputs": []
    },
    {
      "cell_type": "code",
      "metadata": {
        "colab": {
          "base_uri": "https://localhost:8080/"
        },
        "id": "Q63YXZVqztxL",
        "outputId": "a570f491-5514-4ac0-dc0c-a8533258664a"
      },
      "source": [
        "guest = \"AISHWARYA\"\n",
        "time = \"6 AM\"\n",
        "print(\"Welcome to the party {} At {}\".format(guest,time))"
      ],
      "execution_count": null,
      "outputs": [
        {
          "name": "stdout",
          "output_type": "stream",
          "text": [
            "Welcome to the party AISHWARYA At 6 AM\n"
          ]
        }
      ]
    },
    {
      "cell_type": "markdown",
      "metadata": {
        "id": "S5zayHjXoG7z"
      },
      "source": [
        "The {} are placeholders that are substituted by the variables element and count in the final string. This compact syntax is meant to keep the code more readable and compact.\n",
        "\n",
        "Python is currently transitioning to the format syntax above, but python can use an older syntax, which is being phased out, but is still seen in some example code:"
      ]
    },
    {
      "cell_type": "code",
      "metadata": {
        "colab": {
          "base_uri": "https://localhost:8080/"
        },
        "id": "ClbZvn5ZoH0j",
        "outputId": "bfa5d684-6bb1-42f6-b768-0ed39eb7f246"
      },
      "source": [
        "element = 5\n",
        "count = 12\n",
        "print (\"The item %i is repeated %i times\"% (element,count))"
      ],
      "execution_count": null,
      "outputs": [
        {
          "name": "stdout",
          "output_type": "stream",
          "text": [
            "The item 5 is repeated 12 times\n"
          ]
        }
      ]
    },
    {
      "cell_type": "code",
      "metadata": {
        "colab": {
          "base_uri": "https://localhost:8080/"
        },
        "id": "9mM_8FoKu7aP",
        "outputId": "a6c5e38f-49a4-4225-b1a4-32e456bf874d"
      },
      "source": [
        "#Repetition:\n",
        "\n",
        "#It means repeating a sequence of instructions a certain number of times.\n",
        "\n",
        "String1 = \"Hello\"\n",
        "\n",
        "print(String1*4)"
      ],
      "execution_count": null,
      "outputs": [
        {
          "name": "stdout",
          "output_type": "stream",
          "text": [
            "HelloHelloHelloHello\n"
          ]
        }
      ]
    },
    {
      "cell_type": "markdown",
      "metadata": {
        "id": "wakTjml_KbD-"
      },
      "source": [
        "#Escape Sequencing in Python\n",
        "\n",
        "While printing Strings with single and double quotes in it causes SyntaxError because String already contains Single and Double Quotes and hence cannot be printed with the use of either of these. Hence, to print such a String either Triple Quotes are used or Escape sequences are used to print such Strings.\n",
        "\n",
        "Escape sequences start with a backslash and can be interpreted differently. If single quotes are used to represent a string, then all the single quotes present in the string must be escaped and same is done for Double Quotes."
      ]
    },
    {
      "cell_type": "markdown",
      "metadata": {
        "id": "bwOGuwliMLi1"
      },
      "source": [
        "\\'\t-> Terminates string with single quote opening delimiter\tLiteral single quote (') character\n",
        "\n",
        "\\\" ->\tTerminates string with double quote opening delimiter\tLiteral double quote (\") character\n",
        "\n",
        "\\newline ->\tTerminates input line\tNewline is ignored\n",
        "\n",
        "\\\\ ->\tIntroduces escape sequence\tLiteral backslash (\\) character"
      ]
    },
    {
      "cell_type": "code",
      "metadata": {
        "colab": {
          "base_uri": "https://localhost:8080/"
        },
        "id": "rGBXKEv91Lnk",
        "outputId": "aadee276-723c-4f5b-bbca-ddf4d7dc2df5"
      },
      "source": [
        "quote='hi Radhika\\n how are you \"how was your day\"'\n",
        "print(quote)"
      ],
      "execution_count": null,
      "outputs": [
        {
          "output_type": "stream",
          "name": "stdout",
          "text": [
            "hi Radhika\n",
            " how are you \"how was your day\"\n"
          ]
        }
      ]
    },
    {
      "cell_type": "code",
      "metadata": {
        "colab": {
          "base_uri": "https://localhost:8080/"
        },
        "id": "CEWvy71aKq-z",
        "outputId": "0fc3df99-2b06-4b2c-faf9-931e14bbba25"
      },
      "source": [
        "# Python Program for  \n",
        "# Escape Sequencing   \n",
        "# of String  \n",
        "    \n",
        "# Initial String  \n",
        "String1 = '''I'm a \"Geek\"'''\n",
        "print(\"Initial String with use of Triple Quotes: \")  \n",
        "print(String1)  \n",
        "    \n",
        "# Escaping Single Quote   \n",
        "String1 = 'I\\'m a \"Geek\"'\n",
        "print(\"\\nEscaping Single Quote: \")  \n",
        "print(String1)  \n",
        "    \n",
        "# Escaping Doule Quotes  \n",
        "String1 = \"I'm a \\\"Geek\\\"\"\n",
        "print(\"\\nEscaping Double Quotes: \")  \n",
        "print(String1)  \n",
        "    \n",
        "# Printing Paths with the   \n",
        "# use of Escape Sequences  \n",
        "String1 = \"C:\\\\Python\\\\Geeks\\\\\"\n",
        "print(\"\\nEscaping Backslashes: \")  \n",
        "print(String1)  "
      ],
      "execution_count": null,
      "outputs": [
        {
          "name": "stdout",
          "output_type": "stream",
          "text": [
            "Initial String with use of Triple Quotes: \n",
            "I'm a \"Geek\"\n",
            "\n",
            "Escaping Single Quote: \n",
            "I'm a \"Geek\"\n",
            "\n",
            "Escaping Double Quotes: \n",
            "I'm a \"Geek\"\n",
            "\n",
            "Escaping Backslashes: \n",
            "C:\\Python\\Geeks\\\n"
          ]
        }
      ]
    },
    {
      "cell_type": "markdown",
      "metadata": {
        "id": "17DEiuUeOkDG"
      },
      "source": [
        "##Applying Special Meaning to Characters\n",
        "\n",
        "\n",
        "Next, suppose you need to create a string that contains a tab character in it. Some text editors may allow you to insert a tab character directly into your code. But many programmers consider that poor practice, for several reasons:\n",
        "\n",
        "The computer can distinguish between a tab character and a sequence of space characters, but you can’t. To a human reading the code, tab and space characters are visually indistinguishable.\n",
        "Some text editors are configured to automatically eliminate tab characters by expanding them to the appropriate number of spaces.\n",
        "Some Python REPL environments will not insert tabs into code.\n",
        "In Python (and almost all other common computer languages), a tab character can be specified by the escape sequence \\t:"
      ]
    },
    {
      "cell_type": "code",
      "metadata": {
        "colab": {
          "base_uri": "https://localhost:8080/"
        },
        "id": "aRBgy3ZfO0CG",
        "outputId": "f054cffe-8709-4d20-c798-b49c4acdbdd7"
      },
      "source": [
        "print('foo\\tbar')"
      ],
      "execution_count": null,
      "outputs": [
        {
          "name": "stdout",
          "output_type": "stream",
          "text": [
            "foo\tbar\n"
          ]
        }
      ]
    },
    {
      "cell_type": "markdown",
      "metadata": {
        "id": "BLxv1hl3O11n"
      },
      "source": [
        "The escape sequence \\t causes the t character to lose its usual meaning, that of a literal t. Instead, the combination is interpreted as a tab character.\n",
        "\n",
        "Here is a list of escape sequences that cause Python to apply special meaning instead of interpreting literally:"
      ]
    },
    {
      "cell_type": "markdown",
      "metadata": {
        "id": "BftGDtrbO7Km"
      },
      "source": [
        "\\a->\tASCII Bell (BEL) character\n",
        "\n",
        "\\b->\tASCII Backspace (BS) character\n",
        "\n",
        "\\f->\tASCII Formfeed (FF) character\n",
        "\n",
        "\\n->\tASCII Linefeed (LF) character\n",
        "\n",
        "\\N{<name>}->\tCharacter from Unicode database with given <name>\n",
        "\n",
        "\\r->\tASCII Carriage Return (CR) character\n",
        "\n",
        "\\t\t-> ASCII Horizontal Tab (TAB) character\n",
        "\n",
        "\\uxxxx->\tUnicode character with 16-bit hex value xxxx\n",
        "\n",
        "\\Uxxxxxxxx->\tUnicode character with 32-bit hex value \n",
        "xxxxxxxx\n",
        "\n",
        "\\v->\tASCII Vertical Tab (VT) character\n",
        "\n",
        "\\ooo->\tCharacter with octal value ooo\n",
        "\n",
        "\\xhh->\tCharacter with hex value hh"
      ]
    },
    {
      "cell_type": "code",
      "metadata": {
        "id": "m_co3x-ePl_c"
      },
      "source": [
        "print(\"a\\tb\")\n",
        "print(\"a\\141\\x61\")\n",
        "print('\\u2192 \\N{rightwards arrow}')"
      ],
      "execution_count": null,
      "outputs": []
    },
    {
      "cell_type": "markdown",
      "metadata": {
        "id": "gZ6TVe1Z5U10"
      },
      "source": [
        "##Operations On String"
      ]
    },
    {
      "cell_type": "markdown",
      "metadata": {
        "id": "ntK_i-iv8MD3"
      },
      "source": [
        "##Accessing elements of string\n",
        "In Python, individual characters of a String can be accessed by using the method of Indexing. Indexing allows negative address references to access characters from the back of the String, e.g. -1 refers to the last character, -2 refers to the second last character and so on.\n",
        "\n",
        "\n",
        "While accessing an index out of the range will cause an IndexError. Only Integers are allowed to be passed as an index, float or other types will cause a TypeError."
      ]
    },
    {
      "cell_type": "markdown",
      "metadata": {
        "id": "YU0r1U0r-r9t"
      },
      "source": [
        "![]"
      ]
    },
    {
      "cell_type": "markdown",
      "metadata": {
        "id": "_ycWdJ1A8hCi"
      },
      "source": [
        "# Indexing in Python\n",
        "\n",
        "Positive Indexing -> Left To Right\n",
        "\n",
        "Negative Indexing ->Right to left"
      ]
    },
    {
      "cell_type": "markdown",
      "metadata": {
        "id": "CBQ3pheW-3j6"
      },
      "source": [
        "![Picture](https://i.stack.imgur.com/o99aU.png)"
      ]
    },
    {
      "cell_type": "markdown",
      "metadata": {
        "id": "2d_InK3J_TDh"
      },
      "source": [
        "![Picture](data:image/jpeg;base64,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)"
      ]
    },
    {
      "cell_type": "code",
      "metadata": {
        "id": "HfeSb4s6_hrL"
      },
      "source": [
        "s = \"yasham academy\"\n"
      ],
      "execution_count": null,
      "outputs": []
    },
    {
      "cell_type": "code",
      "metadata": {
        "colab": {
          "base_uri": "https://localhost:8080/"
        },
        "id": "qixcrx7y_n4s",
        "outputId": "68b029d7-7db0-4667-c039-28a06fd04728"
      },
      "source": [
        "#Positive Indexing In Python\n",
        "print(s[0])\n",
        "print(s[1])\n",
        "print(s[2])\n",
        "print(s[3])\n",
        "print(s[4])\n",
        "print(s[5])\n",
        "print(s[6])\n",
        "print(s[7])\n",
        "print(s[8])\n"
      ],
      "execution_count": null,
      "outputs": [
        {
          "output_type": "stream",
          "name": "stdout",
          "text": [
            "y\n",
            "a\n",
            "s\n",
            "h\n",
            "a\n",
            "m\n",
            " \n",
            "a\n",
            "c\n"
          ]
        }
      ]
    },
    {
      "cell_type": "code",
      "metadata": {
        "colab": {
          "base_uri": "https://localhost:8080/"
        },
        "id": "iPM4IGKrAK_J",
        "outputId": "dfbef5d0-538f-4c53-d72e-7f0af9aef26a"
      },
      "source": [
        "#Negative Indexing In Python\n",
        "print(s[-1])\n",
        "print(s[-2])\n",
        "print(s[-3])\n",
        "print(s[-4])\n",
        "print(s[-5])\n",
        "print(s[-6])\n",
        "print(s[-7])\n",
        "print(s[-8])\n",
        "print(s[-9])\n",
        "print(s[-10])\n",
        "print(s[-11])\n"
      ],
      "execution_count": null,
      "outputs": [
        {
          "output_type": "stream",
          "name": "stdout",
          "text": [
            "r\n",
            "e\n",
            "c\n",
            "n\n",
            "e\n",
            "u\n",
            "l\n",
            "f\n",
            "n\n",
            "i\n",
            "#\n"
          ]
        }
      ]
    },
    {
      "cell_type": "markdown",
      "metadata": {
        "id": "gHIUXP6aAiCR"
      },
      "source": [
        "Q) Why Negative Indexing ?\n",
        "\n",
        "to provide Flexibility to programmer"
      ]
    },
    {
      "cell_type": "markdown",
      "metadata": {
        "id": "Wnock6gN5k66"
      },
      "source": [
        "#Slice Operator\n",
        "\n",
        "Slice itself is a substring creator\n",
        "\n",
        "Slicing is a technique for extracting parts of a string.\n",
        "\n",
        "Note: In Python, index starts from 0.\n",
        "\n",
        "To access substrings, use the square brackets for slicing along with the index or indices to obtain your substring. "
      ]
    },
    {
      "cell_type": "markdown",
      "metadata": {
        "id": "By9uMYQoBHXf"
      },
      "source": [
        "#Syntax\n",
        "##str[begin:end]"
      ]
    },
    {
      "cell_type": "code",
      "metadata": {
        "colab": {
          "base_uri": "https://localhost:8080/",
          "height": 35
        },
        "id": "HZK05qGy5jdO",
        "outputId": "c511f283-9292-4cc1-8e40-9600dcd5c6fb"
      },
      "source": [
        "s[0:4] #yasha   n->n-1"
      ],
      "execution_count": null,
      "outputs": [
        {
          "output_type": "execute_result",
          "data": {
            "text/plain": [
              "'yash'"
            ],
            "application/vnd.google.colaboratory.intrinsic+json": {
              "type": "string"
            }
          },
          "metadata": {},
          "execution_count": 3
        }
      ]
    },
    {
      "cell_type": "markdown",
      "metadata": {
        "id": "7lDdVW8zBs9Q"
      },
      "source": [
        "return substring from begning index to n-1 index."
      ]
    },
    {
      "cell_type": "code",
      "metadata": {
        "colab": {
          "base_uri": "https://localhost:8080/",
          "height": 35
        },
        "id": "vnbsyTjgBnH0",
        "outputId": "ec54159a-7bae-4680-ba01-c6772ae439d1"
      },
      "source": [
        "s[2:7] "
      ],
      "execution_count": null,
      "outputs": [
        {
          "output_type": "execute_result",
          "data": {
            "application/vnd.google.colaboratory.intrinsic+json": {
              "type": "string"
            },
            "text/plain": [
              "'nflue'"
            ]
          },
          "metadata": {},
          "execution_count": 15
        }
      ]
    },
    {
      "cell_type": "code",
      "metadata": {
        "colab": {
          "base_uri": "https://localhost:8080/",
          "height": 35
        },
        "id": "Mo3WUxF3B32s",
        "outputId": "46045d7f-8fe1-4e28-8518-93477bac705c"
      },
      "source": [
        "s[1:] #DIGITALAASTHA"
      ],
      "execution_count": null,
      "outputs": [
        {
          "output_type": "execute_result",
          "data": {
            "application/vnd.google.colaboratory.intrinsic+json": {
              "type": "string"
            },
            "text/plain": [
              "'influencer'"
            ]
          },
          "metadata": {},
          "execution_count": 16
        }
      ]
    },
    {
      "cell_type": "markdown",
      "metadata": {
        "id": "yYDXmwEYB8UQ"
      },
      "source": [
        "Default value is end of string if not specified where to end.\n",
        "\n",
        "end is optional"
      ]
    },
    {
      "cell_type": "code",
      "metadata": {
        "colab": {
          "base_uri": "https://localhost:8080/",
          "height": 35
        },
        "id": "WHyh_CioB6QM",
        "outputId": "802e046b-c437-4695-84d9-204f86b4ecf5"
      },
      "source": [
        "s[3:]"
      ],
      "execution_count": null,
      "outputs": [
        {
          "output_type": "execute_result",
          "data": {
            "text/plain": [
              "'ham academy'"
            ],
            "application/vnd.google.colaboratory.intrinsic+json": {
              "type": "string"
            }
          },
          "metadata": {},
          "execution_count": 4
        }
      ]
    },
    {
      "cell_type": "code",
      "metadata": {
        "colab": {
          "base_uri": "https://localhost:8080/",
          "height": 35
        },
        "id": "TBBbefLNCJA-",
        "outputId": "75b8001a-a75b-4260-a8f9-c6adac48eacf"
      },
      "source": [
        "s[:4]"
      ],
      "execution_count": null,
      "outputs": [
        {
          "output_type": "execute_result",
          "data": {
            "text/plain": [
              "'yash'"
            ],
            "application/vnd.google.colaboratory.intrinsic+json": {
              "type": "string"
            }
          },
          "metadata": {},
          "execution_count": 5
        }
      ]
    },
    {
      "cell_type": "markdown",
      "metadata": {
        "id": "9X33ChnnCQgj"
      },
      "source": [
        "if start value is not specified it will start from begning.\n",
        "\n",
        "begning is optional"
      ]
    },
    {
      "cell_type": "code",
      "metadata": {
        "colab": {
          "base_uri": "https://localhost:8080/",
          "height": 35
        },
        "id": "BVumx-P2CL-E",
        "outputId": "21f57109-06dd-4f09-ae81-5fce5265d9e0"
      },
      "source": [
        "s[:]"
      ],
      "execution_count": null,
      "outputs": [
        {
          "output_type": "execute_result",
          "data": {
            "text/plain": [
              "'yasham academy'"
            ],
            "application/vnd.google.colaboratory.intrinsic+json": {
              "type": "string"
            }
          },
          "metadata": {},
          "execution_count": 6
        }
      ]
    },
    {
      "cell_type": "code",
      "metadata": {
        "colab": {
          "base_uri": "https://localhost:8080/",
          "height": 35
        },
        "id": "17gMcFWaCceK",
        "outputId": "8ecf7898-876d-46ab-e00a-219cb59ed26f"
      },
      "source": [
        "s[-4:-1]"
      ],
      "execution_count": null,
      "outputs": [
        {
          "output_type": "execute_result",
          "data": {
            "application/vnd.google.colaboratory.intrinsic+json": {
              "type": "string"
            },
            "text/plain": [
              "'nce'"
            ]
          },
          "metadata": {},
          "execution_count": 20
        }
      ]
    },
    {
      "cell_type": "markdown",
      "metadata": {
        "id": "RtpHNdSPCjiy"
      },
      "source": [
        "begning value should be lower and end value should be higher\n",
        "\n",
        "-1> -4"
      ]
    },
    {
      "cell_type": "code",
      "metadata": {
        "id": "aj-77DtJCgnR"
      },
      "source": [
        "str[-4:-1]"
      ],
      "execution_count": null,
      "outputs": []
    },
    {
      "cell_type": "markdown",
      "source": [
        "str[start:stop:stepsize]"
      ],
      "metadata": {
        "id": "arqHB1jooyC5"
      }
    },
    {
      "cell_type": "code",
      "source": [
        "print(s[0::3]) #yasham academy"
      ],
      "metadata": {
        "colab": {
          "base_uri": "https://localhost:8080/"
        },
        "id": "n-ae1j2Borv5",
        "outputId": "b2cf01e3-a06c-40f5-a52a-0dfd9bc23dad"
      },
      "execution_count": null,
      "outputs": [
        {
          "output_type": "stream",
          "name": "stdout",
          "text": [
            "yh am\n"
          ]
        }
      ]
    },
    {
      "cell_type": "code",
      "source": [
        "#reverse the given string\n",
        "print(s[::-1])"
      ],
      "metadata": {
        "colab": {
          "base_uri": "https://localhost:8080/"
        },
        "id": "ryz7wFKcpnCO",
        "outputId": "67277aa5-94b5-4590-ba42-013204c3f2a4"
      },
      "execution_count": null,
      "outputs": [
        {
          "output_type": "stream",
          "name": "stdout",
          "text": [
            "ymedaca mahsay\n"
          ]
        }
      ]
    },
    {
      "cell_type": "markdown",
      "source": [
        "methods in strings\n"
      ],
      "metadata": {
        "id": "pnQhRPRzILHF"
      }
    },
    {
      "cell_type": "code",
      "metadata": {
        "colab": {
          "base_uri": "https://localhost:8080/"
        },
        "id": "ED1Zp9rSTBhz",
        "outputId": "901fdf23-a432-4c58-d488-343f6952cd1f"
      },
      "source": [
        "#capitalize(): Converts the first character of a string to uppercase letters.\n",
        "mystr='python'\n",
        "print(mystr.capitalize())\n"
      ],
      "execution_count": null,
      "outputs": [
        {
          "output_type": "stream",
          "name": "stdout",
          "text": [
            "Python\n"
          ]
        }
      ]
    },
    {
      "cell_type": "code",
      "source": [
        "#form\n",
        "\n",
        "name=input(\"Enter your name\")\n",
        "l_name = input(\"Enter your last name\")\n",
        "Father_name = input(\"Enter your Father name\")\n",
        "\n",
        "print(name.capitalize())\n",
        "print(l_name.capatalize())\n",
        "print(Father_name.capatalize())"
      ],
      "metadata": {
        "id": "n4z4WrzXi4Q3"
      },
      "execution_count": null,
      "outputs": []
    },
    {
      "cell_type": "code",
      "metadata": {
        "colab": {
          "base_uri": "https://localhost:8080/"
        },
        "id": "qDSWHn4mTRNA",
        "outputId": "1378735e-e291-4eb8-c410-0f95cdef62dc"
      },
      "source": [
        "#upper() Replaces the lowercase characters in a string with corresponding uppercase characters.\n",
        "mystr='Python'\n",
        "print(mystr.upper())"
      ],
      "execution_count": null,
      "outputs": [
        {
          "output_type": "stream",
          "name": "stdout",
          "text": [
            "PYTHON\n"
          ]
        }
      ]
    },
    {
      "cell_type": "code",
      "source": [
        "first_name= 'swaraj'\n",
        "\n",
        "second_name='vijay'\n",
        "\n",
        "last_name='raut'\n",
        "\n",
        "print(\"frist_name, second_name\")\n",
        "\n",
        "mystr.upper()\n",
        "\n",
        "print(\"first_name,secont_name,last_name\")\n",
        "\n",
        "mystr.lower()\n",
        "\n",
        "print(\"first_name+last_name\")"
      ],
      "metadata": {
        "id": "xBLzmMsRmjSA"
      },
      "execution_count": null,
      "outputs": []
    },
    {
      "cell_type": "code",
      "metadata": {
        "colab": {
          "base_uri": "https://localhost:8080/",
          "height": 35
        },
        "id": "f2l63aQHThFN",
        "outputId": "57c847f6-897c-4dfb-a177-3518b563273d"
      },
      "source": [
        "#lower() Replaces the uppercase characters in a string with corresponding lowercase characters.\n",
        "mystr='PYTHON'\n",
        "mystr.lower()"
      ],
      "execution_count": null,
      "outputs": [
        {
          "output_type": "execute_result",
          "data": {
            "text/plain": [
              "'python'"
            ],
            "application/vnd.google.colaboratory.intrinsic+json": {
              "type": "string"
            }
          },
          "metadata": {},
          "execution_count": 5
        }
      ]
    },
    {
      "cell_type": "code",
      "source": [
        "#casefold():- converts your string to lower case\n",
        "str1 = 'HELLO WELCOME TO PYTHON'\n",
        "print(str1.casefold())"
      ],
      "metadata": {
        "colab": {
          "base_uri": "https://localhost:8080/"
        },
        "id": "ovlUArouNnlM",
        "outputId": "9f6ad7cf-c151-48a6-9d9d-5ed764af6dbc"
      },
      "execution_count": null,
      "outputs": [
        {
          "output_type": "stream",
          "name": "stdout",
          "text": [
            "hello welcome to python\n"
          ]
        }
      ]
    },
    {
      "cell_type": "code",
      "metadata": {
        "colab": {
          "base_uri": "https://localhost:8080/",
          "height": 35
        },
        "id": "kUsdoCu8TwAt",
        "outputId": "ce3cc20d-9fc9-4e7d-e3e2-97598df62d61"
      },
      "source": [
        "#title():Returns the string with the first character of each word converted to uppercase.\n",
        "mystr='python tutorial from tutorials teacher'\n",
        "mystr.title()"
      ],
      "execution_count": null,
      "outputs": [
        {
          "data": {
            "application/vnd.google.colaboratory.intrinsic+json": {
              "type": "string"
            },
            "text/plain": [
              "'Python Tutorial From Tutorials Teacher'"
            ]
          },
          "execution_count": 33,
          "metadata": {
            "tags": []
          },
          "output_type": "execute_result"
        }
      ]
    },
    {
      "cell_type": "code",
      "metadata": {
        "colab": {
          "base_uri": "https://localhost:8080/"
        },
        "id": "RPatk9hUT98W",
        "outputId": "23902fe9-bfe2-46db-e90b-5bdce3071b33"
      },
      "source": [
        "#find():The find() method finds the first occurrence of a substring in another string. If not found, the method returns -1.\n",
        "mystr='Python Tutorial From Tutorials Teacher'\n",
        "mystr.find('From')"
      ],
      "execution_count": null,
      "outputs": [
        {
          "data": {
            "text/plain": [
              "16"
            ]
          },
          "execution_count": 73,
          "metadata": {
            "tags": []
          },
          "output_type": "execute_result"
        }
      ]
    },
    {
      "cell_type": "code",
      "metadata": {
        "colab": {
          "base_uri": "https://localhost:8080/"
        },
        "id": "Qk_YA0LqUPh-",
        "outputId": "577f2c36-b6b5-4480-fcdb-18a1698c0762"
      },
      "source": [
        "mystr.find('z')\n"
      ],
      "execution_count": null,
      "outputs": [
        {
          "data": {
            "text/plain": [
              "-1"
            ]
          },
          "execution_count": 75,
          "metadata": {
            "tags": []
          },
          "output_type": "execute_result"
        }
      ]
    },
    {
      "cell_type": "code",
      "metadata": {
        "colab": {
          "base_uri": "https://localhost:8080/"
        },
        "id": "9vkDnHpTUZQP",
        "outputId": "12068f19-49f0-413f-b630-91244c13960e"
      },
      "source": [
        "#count():The count() method returns the number of occurrences of a substring in the given string.\n",
        "mystr='Python Tutorial From Tutorial Teacher'\n",
        "mystr.count('Tutorial')"
      ],
      "execution_count": null,
      "outputs": [
        {
          "output_type": "execute_result",
          "data": {
            "text/plain": [
              "2"
            ]
          },
          "metadata": {},
          "execution_count": 9
        }
      ]
    },
    {
      "cell_type": "code",
      "metadata": {
        "colab": {
          "base_uri": "https://localhost:8080/",
          "height": 34
        },
        "id": "Ls1nnGXAUmbz",
        "outputId": "be61267d-beb6-4aaa-ce0a-642fdc4ddf7f"
      },
      "source": [
        "#isalpha():The isalpha() method returns true if all the characters in a string are alphabetic letters (a-z or A-Z), otherwise it returns false.\n",
        "mystr='TutorialsTeacher'\n",
        "mystr.isalpha()"
      ],
      "execution_count": null,
      "outputs": [
        {
          "data": {
            "text/plain": [
              "True"
            ]
          },
          "execution_count": 37,
          "metadata": {
            "tags": []
          },
          "output_type": "execute_result"
        }
      ]
    },
    {
      "cell_type": "code",
      "metadata": {
        "colab": {
          "base_uri": "https://localhost:8080/",
          "height": 34
        },
        "id": "o0NERWapU5PZ",
        "outputId": "961fc5b3-37e1-488a-fea9-6f42b54c895c"
      },
      "source": [
        "#isdigit() The isdigit() is method returns true if all the characters in string are digits (0-9), if not, it returns false.\n",
        "str1='2000'\n",
        "str1.isdigit()"
      ],
      "execution_count": null,
      "outputs": [
        {
          "data": {
            "text/plain": [
              "True"
            ]
          },
          "execution_count": 38,
          "metadata": {
            "tags": []
          },
          "output_type": "execute_result"
        }
      ]
    },
    {
      "cell_type": "code",
      "metadata": {
        "colab": {
          "base_uri": "https://localhost:8080/",
          "height": 34
        },
        "id": "2RU1E_JWVIiL",
        "outputId": "8db72d3c-cd85-44c8-fd54-e94d9f684d72"
      },
      "source": [
        "str2='2,000'\n",
        "str2.isdigit()"
      ],
      "execution_count": null,
      "outputs": [
        {
          "data": {
            "text/plain": [
              "False"
            ]
          },
          "execution_count": 39,
          "metadata": {
            "tags": []
          },
          "output_type": "execute_result"
        }
      ]
    },
    {
      "cell_type": "code",
      "metadata": {
        "colab": {
          "base_uri": "https://localhost:8080/",
          "height": 34
        },
        "id": "ycSj9uuZVPRL",
        "outputId": "753fabd9-5885-481b-addf-d93bf1242299"
      },
      "source": [
        "#islower() The islower() method returns true if all the characters in the string are lowercase characters, else it returns false.\n",
        "str1='python'\n",
        "str1.islower()"
      ],
      "execution_count": null,
      "outputs": [
        {
          "data": {
            "text/plain": [
              "True"
            ]
          },
          "execution_count": 40,
          "metadata": {
            "tags": []
          },
          "output_type": "execute_result"
        }
      ]
    },
    {
      "cell_type": "code",
      "metadata": {
        "colab": {
          "base_uri": "https://localhost:8080/",
          "height": 34
        },
        "id": "Zum2LrrrVgJs",
        "outputId": "f5f21c56-814d-4eec-8b08-1c765711c41f"
      },
      "source": [
        "str2='Python'\n",
        "str2.islower()"
      ],
      "execution_count": null,
      "outputs": [
        {
          "data": {
            "text/plain": [
              "False"
            ]
          },
          "execution_count": 41,
          "metadata": {
            "tags": []
          },
          "output_type": "execute_result"
        }
      ]
    },
    {
      "cell_type": "code",
      "metadata": {
        "colab": {
          "base_uri": "https://localhost:8080/",
          "height": 34
        },
        "id": "mkIV7H3qVmvV",
        "outputId": "e42e3a10-db12-4549-fb03-56648aa5311c"
      },
      "source": [
        "#isupper() The isupper() method returns true if all the characters in the string are uppercase characters, else it returns false.\n",
        "var='TUTORIALSTEACHER'\n",
        "var.isupper()"
      ],
      "execution_count": null,
      "outputs": [
        {
          "data": {
            "text/plain": [
              "True"
            ]
          },
          "execution_count": 42,
          "metadata": {
            "tags": []
          },
          "output_type": "execute_result"
        }
      ]
    },
    {
      "cell_type": "code",
      "metadata": {
        "colab": {
          "base_uri": "https://localhost:8080/",
          "height": 34
        },
        "id": "6Oyr9M40VyF7",
        "outputId": "b1793ac1-79df-49c7-ee7b-f6c84efdd653"
      },
      "source": [
        "var='TUTORIALSTeacher'\n",
        "var.isupper()"
      ],
      "execution_count": null,
      "outputs": [
        {
          "data": {
            "text/plain": [
              "False"
            ]
          },
          "execution_count": 43,
          "metadata": {
            "tags": []
          },
          "output_type": "execute_result"
        }
      ]
    },
    {
      "cell_type": "code",
      "metadata": {
        "colab": {
          "base_uri": "https://localhost:8080/",
          "height": 35
        },
        "id": "xzrzB-B0JhOv",
        "outputId": "6a45c1df-a1b3-4e99-f62b-4bd49b948446"
      },
      "source": [
        "# '+'\tAppends the second string to the first\n",
        "a='hello'\n",
        "b='world'\n",
        "a+b\n"
      ],
      "execution_count": null,
      "outputs": [
        {
          "data": {
            "application/vnd.google.colaboratory.intrinsic+json": {
              "type": "string"
            },
            "text/plain": [
              "'helloworld'"
            ]
          },
          "execution_count": 44,
          "metadata": {
            "tags": []
          },
          "output_type": "execute_result"
        }
      ]
    },
    {
      "cell_type": "code",
      "metadata": {
        "colab": {
          "base_uri": "https://localhost:8080/",
          "height": 35
        },
        "id": "dWDOqntmRMWy",
        "outputId": "3e1645a3-0dcf-42c2-eea5-70b3bb33c581"
      },
      "source": [
        "# '*'\tConcatenates multiple copies of the same string\n",
        "a='hello'\n",
        "a*3"
      ],
      "execution_count": null,
      "outputs": [
        {
          "data": {
            "application/vnd.google.colaboratory.intrinsic+json": {
              "type": "string"
            },
            "text/plain": [
              "'hellohellohello'"
            ]
          },
          "execution_count": 45,
          "metadata": {
            "tags": []
          },
          "output_type": "execute_result"
        }
      ]
    },
    {
      "cell_type": "code",
      "metadata": {
        "colab": {
          "base_uri": "https://localhost:8080/",
          "height": 34
        },
        "id": "5Q7J0lCRRe3q",
        "outputId": "cf1fe382-f257-49ef-8ffe-be57d6285d5d"
      },
      "source": [
        "# 'in'\tReturns true if a character exists in the given string\n",
        "a = 'Python Tutorials'\n",
        "'X' in a"
      ],
      "execution_count": null,
      "outputs": [
        {
          "data": {
            "text/plain": [
              "False"
            ]
          },
          "execution_count": 46,
          "metadata": {
            "tags": []
          },
          "output_type": "execute_result"
        }
      ]
    },
    {
      "cell_type": "code",
      "metadata": {
        "id": "m-Vh5xLgRt0-"
      },
      "source": [
        "'Python' in a\n"
      ],
      "execution_count": null,
      "outputs": []
    },
    {
      "cell_type": "code",
      "metadata": {
        "id": "ZQtZNw9ZRye9"
      },
      "source": [
        "# 'not in' Returns true if a character does not exist in the given string \n",
        "a = 'Python Tutorials'\n",
        "'X' not in a"
      ],
      "execution_count": null,
      "outputs": []
    },
    {
      "cell_type": "code",
      "metadata": {
        "id": "YsKVqzN3SCoV"
      },
      "source": [
        "'Python' not in a"
      ],
      "execution_count": null,
      "outputs": []
    },
    {
      "cell_type": "markdown",
      "metadata": {
        "id": "P3dOL9AxSriJ"
      },
      "source": [
        "%c\tcharacter\n",
        "\n",
        "%s\tstring conversion via str() prior to formatting\n",
        "\n",
        "%i\tsigned decimal integer\n",
        "\n",
        "%d\tsigned decimal integer\n",
        "\n",
        "%u\tunsigned decimal integer\n",
        "\n",
        "%o\toctal integer\n",
        "\n",
        "%x / %X\thexadecimal integer (lowercase letters)\n",
        "\n",
        "%e / %E\texponential notation (with lowercase 'e')\n",
        "\n",
        "%f\tfloating point real number"
      ]
    },
    {
      "cell_type": "code",
      "metadata": {
        "colab": {
          "base_uri": "https://localhost:8080/",
          "height": 130
        },
        "id": "rictM5I3SFyd",
        "outputId": "b40d4ffb-da02-461b-e8cc-f39c90aaf617"
      },
      "source": [
        "a= 20\n",
        "print(type(a)\n",
        "b= 3.14\n",
        "print(type(b))\n",
        "c = 2+3j\n",
        "print(type(c))"
      ],
      "execution_count": null,
      "outputs": [
        {
          "ename": "SyntaxError",
          "evalue": "ignored",
          "output_type": "error",
          "traceback": [
            "\u001b[0;36m  File \u001b[0;32m\"<ipython-input-47-8151e1c37bb2>\"\u001b[0;36m, line \u001b[0;32m3\u001b[0m\n\u001b[0;31m    b= 3.14\u001b[0m\n\u001b[0m    ^\u001b[0m\n\u001b[0;31mSyntaxError\u001b[0m\u001b[0;31m:\u001b[0m invalid syntax\n"
          ]
        }
      ]
    },
    {
      "cell_type": "code",
      "metadata": {
        "colab": {
          "base_uri": "https://localhost:8080/"
        },
        "id": "1ircUI3mMyp4",
        "outputId": "4978213c-7850-436e-d538-2e97788e3567"
      },
      "source": [
        "a = input(\"enter your name\")\n",
        "print(a)\n",
        "print(type(a))"
      ],
      "execution_count": null,
      "outputs": [
        {
          "name": "stdout",
          "output_type": "stream",
          "text": [
            "enter your namejagdish\n",
            "jagdish\n",
            "<class 'str'>\n"
          ]
        }
      ]
    },
    {
      "cell_type": "code",
      "metadata": {
        "colab": {
          "base_uri": "https://localhost:8080/"
        },
        "id": "Vt5-0mNAM4Cp",
        "outputId": "a19f4e95-b333-4708-ba2f-c6b6b741ae3c"
      },
      "source": [
        "b = str(123)\n",
        "print(type(b))"
      ],
      "execution_count": null,
      "outputs": [
        {
          "name": "stdout",
          "output_type": "stream",
          "text": [
            "<class 'str'>\n"
          ]
        }
      ]
    },
    {
      "cell_type": "code",
      "metadata": {
        "colab": {
          "base_uri": "https://localhost:8080/"
        },
        "id": "lvZumxmtNP2U",
        "outputId": "a9005b55-58a1-407b-d522-774bfd6f3926"
      },
      "source": [
        "c = '123'\n",
        "print(type(c))"
      ],
      "execution_count": null,
      "outputs": [
        {
          "name": "stdout",
          "output_type": "stream",
          "text": [
            "<class 'str'>\n"
          ]
        }
      ]
    },
    {
      "cell_type": "code",
      "metadata": {
        "id": "lrgv2YRZNX8v",
        "colab": {
          "base_uri": "https://localhost:8080/"
        },
        "outputId": "fd3b8662-72ce-4504-9e73-4c17bcd50820"
      },
      "source": [
        "name = \"Siddhant Aware\"\n",
        "\n",
        "print(name[0])"
      ],
      "execution_count": null,
      "outputs": [
        {
          "output_type": "stream",
          "text": [
            "S\n"
          ],
          "name": "stdout"
        }
      ]
    },
    {
      "cell_type": "code",
      "metadata": {
        "colab": {
          "base_uri": "https://localhost:8080/"
        },
        "id": "8eS228S2WcA1",
        "outputId": "287f89cc-36c7-432f-c918-c44d756ae93b"
      },
      "source": [
        "print(name[2])"
      ],
      "execution_count": null,
      "outputs": [
        {
          "output_type": "stream",
          "text": [
            "d\n"
          ],
          "name": "stdout"
        }
      ]
    },
    {
      "cell_type": "code",
      "metadata": {
        "colab": {
          "base_uri": "https://localhost:8080/"
        },
        "id": "1X3t40UWWra4",
        "outputId": "870604f9-9298-41cc-df99-cbf9ddb16674"
      },
      "source": [
        "#negative indexing\n",
        "print(name[-1])"
      ],
      "execution_count": null,
      "outputs": [
        {
          "output_type": "stream",
          "text": [
            "e\n"
          ],
          "name": "stdout"
        }
      ]
    },
    {
      "cell_type": "code",
      "metadata": {
        "id": "y087-eR_YJH0"
      },
      "source": [
        ""
      ],
      "execution_count": null,
      "outputs": []
    },
    {
      "cell_type": "code",
      "metadata": {
        "colab": {
          "base_uri": "https://localhost:8080/"
        },
        "id": "HdD3ap1JW0m_",
        "outputId": "61c0ecde-b2a6-4eaf-9b7e-b5f8c585be3f"
      },
      "source": [
        "#slicing \n",
        "print(name[0:8])"
      ],
      "execution_count": null,
      "outputs": [
        {
          "output_type": "stream",
          "text": [
            "Siddhant\n"
          ],
          "name": "stdout"
        }
      ]
    },
    {
      "cell_type": "code",
      "metadata": {
        "colab": {
          "base_uri": "https://localhost:8080/"
        },
        "id": "f8Uz_-CyXC_B",
        "outputId": "46a45ad9-bd1b-4d15-fd33-8ffd37782955"
      },
      "source": [
        "print(name[9:])"
      ],
      "execution_count": null,
      "outputs": [
        {
          "output_type": "stream",
          "text": [
            "Aware\n"
          ],
          "name": "stdout"
        }
      ]
    },
    {
      "cell_type": "code",
      "metadata": {
        "colab": {
          "base_uri": "https://localhost:8080/"
        },
        "id": "zRdh4gYzXc2d",
        "outputId": "43e88ba0-ce45-45e3-9659-22e775889b70"
      },
      "source": [
        "print(name[-6:])"
      ],
      "execution_count": null,
      "outputs": [
        {
          "output_type": "stream",
          "text": [
            " Aware\n"
          ],
          "name": "stdout"
        }
      ]
    },
    {
      "cell_type": "code",
      "metadata": {
        "colab": {
          "base_uri": "https://localhost:8080/"
        },
        "id": "Yz3PE1vFYBkP",
        "outputId": "2e403912-c2f3-46b8-ed9e-69b57ec109d2"
      },
      "source": [
        "value=3.256987\n",
        "print(value)"
      ],
      "execution_count": null,
      "outputs": [
        {
          "output_type": "stream",
          "text": [
            "\n"
          ],
          "name": "stdout"
        }
      ]
    },
    {
      "cell_type": "code",
      "metadata": {
        "colab": {
          "base_uri": "https://localhost:8080/"
        },
        "id": "dFrtxrTak_Oq",
        "outputId": "e03e6f09-ba83-4477-9abc-4fa1c07bbc31"
      },
      "source": [
        "a  = 23\n",
        "b = \"AGE\"\n",
        "\n",
        "print(b + str(a))"
      ],
      "execution_count": null,
      "outputs": [
        {
          "output_type": "stream",
          "name": "stdout",
          "text": [
            "AGE23\n"
          ]
        }
      ]
    },
    {
      "cell_type": "code",
      "metadata": {
        "colab": {
          "base_uri": "https://localhost:8080/"
        },
        "id": "z23zsQZJlMJu",
        "outputId": "2b26648c-46f8-4991-ee7f-f9e13b9d4dfe"
      },
      "source": [
        "a = \"HAri om\"\n",
        "b =\"Suraj\"\n",
        "\n",
        "print(a+b)"
      ],
      "execution_count": null,
      "outputs": [
        {
          "output_type": "stream",
          "name": "stdout",
          "text": [
            "HAri omSuraj\n"
          ]
        }
      ]
    },
    {
      "cell_type": "code",
      "source": [
        "str_1 = \"Radhika is a good girl\"\n",
        "print(len(str_1))\n"
      ],
      "metadata": {
        "colab": {
          "base_uri": "https://localhost:8080/"
        },
        "id": "hCPD_4nO9RFU",
        "outputId": "9f345322-a5d6-4a1f-c951-5e9e4352d678"
      },
      "execution_count": null,
      "outputs": [
        {
          "output_type": "stream",
          "name": "stdout",
          "text": [
            "22\n"
          ]
        }
      ]
    },
    {
      "cell_type": "code",
      "source": [
        ""
      ],
      "metadata": {
        "id": "RYfQuFDN9ZZn"
      },
      "execution_count": null,
      "outputs": []
    }
  ]
}