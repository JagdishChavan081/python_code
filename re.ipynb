{
 "cells": [
  {
   "cell_type": "markdown",
   "metadata": {},
   "source": [
    "<center><h1>Regular Expressions in Python</h1></center>\n",
    "<center><h3>Notes By<h3></center>\n",
    "<center><h3>Jagdish Chavan</h3></center>\n",
    "<center><b>For more updates, Projects and Code get connected</b></center>  \n",
    "<center><a href=\"https://www.linkedin.com/in/jagdishchavan/\">Linkedin</a> | <a href=\"https://github.com/JagdishChavan081\">Github</a>"
   ]
  },
  {
   "cell_type": "markdown",
   "metadata": {},
   "source": [
    "## Introduction\n",
    "* A regular expression is a string that contains special symbol and characters to find and extract the information needed by us from the given data.\n",
    "* Regular expression help us to search information, match, find and split information as per our requirements.\n",
    "* simply it is called as regex.\n",
    "* Python provides re module that stands for regular expression\n",
    "* This module contain method like compile(), search(), match(), findall(), split(), etc.\n",
    "* when we write a regular expression, we should import re module as follow <br>\n",
    "<b> Syntax </b>\n",
    "\n",
    "               import re\n",
    "\n",
    "* Regular expression are nothing but strings containing characters and special symbols."
   ]
  },
  {
   "cell_type": "code",
   "execution_count": 1,
   "metadata": {},
   "outputs": [
    {
     "name": "stdout",
     "output_type": "stream",
     "text": [
      "mat\n"
     ]
    }
   ],
   "source": [
    "#write a python program to perform regular expression operation\n",
    "\n",
    "import re\n",
    "prog = re.compile(r'm\\w\\w')\n",
    "str ='Cat mat Bat rat'\n",
    "result = prog.search(str)\n",
    "print(result.group())"
   ]
  },
  {
   "cell_type": "markdown",
   "metadata": {},
   "source": [
    "Lets understand code line by line\n",
    "\n",
    "* using **import re** allows us to import regular expression module into our current program.\n",
    "* In second line **prog = re.compile(r'm\\w\\w')** string is prefixed with 'r' to represent that it is a raw string, as we write regular expression as raw string.\n",
    "* difference betwen raw string and regular string is only '\\n' will not throw string in new line in regular expression done by prefixing 'r' before the string.\n",
    "* the first charcter 'm' represents that the words starting with 'm' should be matched.\n",
    "* '\\w' represent any one character in A-Z,a-z and 0-9, since we used two '\\w' they represent any two character after 'm'.\n",
    "* simply we are asking for give us words or string having three characters and with 'm' as first character the next two characters can be alphanumeric.\n",
    "* **re.compile()** is compilation method for re module.\n",
    "* **str ='Cat mat Bat rat'** is the string on which regular expression will act.\n",
    "* **result = prog.search(str)** here we are running this expression on a string 'str' using the **search()** or **match()** method.\n",
    "* **print(result.group())** results are stored in *result* object and we can display it by calling the *group()* method on the object.\n",
    "\n",
    "Lets see one more example on program "
   ]
  },
  {
   "cell_type": "code",
   "execution_count": 2,
   "metadata": {},
   "outputs": [
    {
     "name": "stdout",
     "output_type": "stream",
     "text": [
      "mat\n"
     ]
    }
   ],
   "source": [
    "str1 = 'OPerating System format'\n",
    "result =prog.search(str1)\n",
    "print(result.group())"
   ]
  },
  {
   "cell_type": "markdown",
   "metadata": {},
   "source": [
    "* Instead of compling the first regular expression and the running the next one, we can use a single step to compile and run all the regular expression as.\n",
    "\n",
    "        result = re.search(r'm\\w\\w')\n",
    "* the preciding code is equivalent to:\n",
    "        \n",
    "        prog = re.compile(r'm\\w\\w')\n",
    "        result=prog.search(str)\n",
    "\n",
    " * so, the general form of writing regular expression is as follows:\n",
    "\n",
    "        result = re.search('expression','string')"
   ]
  },
  {
   "cell_type": "markdown",
   "metadata": {},
   "source": [
    "* In below program **search()** method searches for the strings for the strings according to the regular expression and return only the first string.\n",
    "* this is a reason even though there are two strings 'man' and 'mop' it returned only the first one, This string can be extracted using the **group** method \n",
    "* In case, the search() method could not find any strings matching the regular expression, then it returns **None** "
   ]
  },
  {
   "cell_type": "code",
   "execution_count": 4,
   "metadata": {},
   "outputs": [
    {
     "name": "stdout",
     "output_type": "stream",
     "text": [
      "man\n"
     ]
    }
   ],
   "source": [
    "#Q.1)Write a Python Program to create a regular expression to search for strings starting with m and having total 3 characters using the search() method.\n",
    "\n",
    "import re\n",
    "\n",
    "str = 'man sun mop run'\n",
    "result = re.search(r'm\\w\\w', str)\n",
    "if result:\n",
    "    print(result.group())"
   ]
  },
  {
   "cell_type": "markdown",
   "metadata": {},
   "source": [
    "* **findall()**- we want to get all the strings that match the pattern mentioned in the regular expression, we should use **findall()** method instead of **search()** method.\n",
    "* The **findall()** method returns all resultant strings into a list."
   ]
  },
  {
   "cell_type": "code",
   "execution_count": 5,
   "metadata": {},
   "outputs": [
    {
     "name": "stdout",
     "output_type": "stream",
     "text": [
      "['man', 'mop']\n"
     ]
    }
   ],
   "source": [
    "#Q.2) Write a Python Program to create a regular expression to search for string starting with m and having total 3 characters using the findall() method.\n",
    "\n",
    "import re\n",
    "str = 'man sun mop run'\n",
    "result =re.findall(r'm\\w\\w',str)\n",
    "print(result)"
   ]
  },
  {
   "cell_type": "markdown",
   "metadata": {},
   "source": [
    "* **match()**- This method returns the resultant string only if it is found in the beginning of the string. \n",
    "* The **match** method will give None if the string is not in the beginning "
   ]
  },
  {
   "cell_type": "code",
   "execution_count": 1,
   "metadata": {},
   "outputs": [
    {
     "name": "stdout",
     "output_type": "stream",
     "text": [
      "man\n"
     ]
    }
   ],
   "source": [
    "#Q3) write a python program to create a regular expression using the match() method \n",
    "import re\n",
    "\n",
    "str= 'man sun mop run'\n",
    "result = re.match(r'm\\w\\w',str)\n",
    "print(result.group())"
   ]
  },
  {
   "cell_type": "code",
   "execution_count": 2,
   "metadata": {},
   "outputs": [
    {
     "name": "stdout",
     "output_type": "stream",
     "text": [
      "None\n"
     ]
    }
   ],
   "source": [
    "#Q4) Write a Python program to create a regular expression using the match() method to search for strings starting with m and having total 3 characters\n",
    "\n",
    "import re\n",
    "str = 'sun man mop run'\n",
    "result = re.match(r'm\\w\\w',str)\n",
    "print(result)"
   ]
  },
  {
   "cell_type": "markdown",
   "metadata": {},
   "source": [
    "* **split()** - this method splits the given string into pieces according to the regular expression and returns the pieces as elements of a list."
   ]
  },
  {
   "cell_type": "code",
   "execution_count": 3,
   "metadata": {},
   "outputs": [
    {
     "name": "stdout",
     "output_type": "stream",
     "text": [
      "['This', 'is', 'the', 'core', 'python', 's', 'books']\n"
     ]
    }
   ],
   "source": [
    "# Q5) Write a Python program to create a regular expression to split a string into pices where one or more non alpha numeric characters are found.\n",
    "\n",
    "import re\n",
    "str = 'This; is the: \"core\" python\\s books'\n",
    "result =re.split(r'\\W+',str)\n",
    "print(result)"
   ]
  },
  {
   "cell_type": "markdown",
   "metadata": {},
   "source": [
    "* observe the regular expression '\\W', we know that small 'w' represents any one alpha numeric character i.e 'A-Z','a-z',0-9\n",
    "* 'W' represemts any character that is not alpha numeric.\n",
    "* so the work of above regular expression is to split the string 'str' at the place where there is no alpha numeric character.\n",
    "* '+' after 'W' represents to match 1 or more occurances indicated by 'W', resulting into spliting of string into pieces where 1 or more non alpha numeric characters are found."
   ]
  },
  {
   "cell_type": "markdown",
   "metadata": {},
   "source": [
    "* **sub()**- use to find a string and then replace it with a new string syntax as follow\n",
    "        \n",
    "         sub(regular expression, new string, string)"
   ]
  },
  {
   "cell_type": "code",
   "execution_count": 5,
   "metadata": {},
   "outputs": [
    {
     "name": "stdout",
     "output_type": "stream",
     "text": [
      "Kumbhmela will be conducted at Allahabad in India\n"
     ]
    }
   ],
   "source": [
    "# Q6) Write a Python program to create a regular expression to replace a string with a new string\n",
    "import re\n",
    "str = 'Kumbhmela will be conducted at Ahemadabad in India'\n",
    "res = re.sub(r'Ahemadabad','Allahabad',str)\n",
    "print(res)"
   ]
  },
  {
   "cell_type": "markdown",
   "metadata": {},
   "source": [
    "## Sequence Characters in Regular Expressions\n",
    "\n",
    "<html>\n",
    "<style>\n",
    "table, th, td {\n",
    "  border:1px solid black;\n",
    "}\n",
    "</style>\n",
    "<body>\n",
    "<center>\n",
    "<h4>Table 1 Special Sequence characters in Regular Expressions</h4>\n",
    "\n",
    "<table style=\"width:100%\">\n",
    "  <tr>\n",
    "    <th>Character</th>\n",
    "    <th>its description</th>\n",
    "  </tr>\n",
    "  <tr>\n",
    "    <td>\\d</td>\n",
    "    <td>Represents any digit(0-9)</td>\n",
    "  </tr>\n",
    "\n",
    "  <tr>\n",
    "    <td>\\D</td>\n",
    "    <td>Represents any non-digit</td>\n",
    "  </tr>\n",
    "\n",
    "  <tr>\n",
    "    <td>\\s</td>\n",
    "    <td>Represents white space Ex. \\t\\n\\r\\f\\v</td>\n",
    "  </tr>\n",
    "\n",
    "  <tr>\n",
    "    <td>\\S</td>\n",
    "    <td>Represents non-white space character</td>\n",
    "  </tr>\n",
    "\n",
    "  <tr>\n",
    "    <td>\\w</td>\n",
    "    <td>Represents any alpha numeric(0-9,A-Z,a-z)</td>\n",
    "  </tr>\n",
    "\n",
    "  <tr>\n",
    "    <td>\\b</td>\n",
    "    <td>Represents a space around words</td>\n",
    "  </tr>\n",
    "\n",
    "  <tr>\n",
    "    <td>\\A</td>\n",
    "    <td>Matches only at start of the string</td>\n",
    "  </tr>\n",
    "\n",
    "  <tr>\n",
    "    <td>\\Z</td>\n",
    "    <td>MAtches only at end of the string</td>\n",
    "  </tr>\n",
    "  \n",
    "</table>\n",
    "</center>\n",
    "</body>\n",
    "</html>"
   ]
  },
  {
   "cell_type": "markdown",
   "metadata": {},
   "source": [
    "* Sequence characters match only one character in the string, Lets list out the sequence characters which are used in regular expressions along with there meaning in the table 1\n",
    "* Suppose we write it as [\\w]*. Here '*' represents 0 or more repetitions.Hence[\\w]* represents 0 or more alphanumeric character."
   ]
  },
  {
   "cell_type": "code",
   "execution_count": 7,
   "metadata": {},
   "outputs": [
    {
     "name": "stdout",
     "output_type": "stream",
     "text": [
      "an\n",
      "apple\n",
      "a\n",
      "ay\n",
      "away\n"
     ]
    }
   ],
   "source": [
    "#Q7) Write a Python program to create a regular expression to retrive all words starting with a in a given string.\n",
    "\n",
    "import re \n",
    "str ='an apple a day keeps the doctor away'\n",
    "result = re.findall(r'a[\\w]*',str)\n",
    "\n",
    "#findall() returns a list, retreive the elements from the list\n",
    "for words in result:\n",
    "    print(words)"
   ]
  },
  {
   "cell_type": "code",
   "execution_count": null,
   "metadata": {},
   "outputs": [],
   "source": []
  }
 ],
 "metadata": {
  "interpreter": {
   "hash": "f0cd81b106b62c46e2c77489db3967280b9d8a18f22bd9683f4a6128b7973ba9"
  },
  "kernelspec": {
   "display_name": "Python 3.9.7 ('notes')",
   "language": "python",
   "name": "python3"
  },
  "language_info": {
   "codemirror_mode": {
    "name": "ipython",
    "version": 3
   },
   "file_extension": ".py",
   "mimetype": "text/x-python",
   "name": "python",
   "nbconvert_exporter": "python",
   "pygments_lexer": "ipython3",
   "version": "3.9.7"
  },
  "orig_nbformat": 4
 },
 "nbformat": 4,
 "nbformat_minor": 2
}
